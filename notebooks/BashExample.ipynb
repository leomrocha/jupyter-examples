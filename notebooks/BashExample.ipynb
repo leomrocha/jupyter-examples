{
 "cells": [
  {
   "cell_type": "code",
   "execution_count": 1,
   "metadata": {
    "collapsed": false
   },
   "outputs": [
    {
     "name": "stdout",
     "output_type": "stream",
     "text": [
      "1_notmnist.ipynb\tDockerfile\t       notMNIST_small.tar.gz\r\n",
      "2_fullyconnected.ipynb\tLearningScikit.ipynb   README.md\r\n",
      "3_regularization.ipynb\tnotMNIST_large\t       sanitized_train_dataset.pickle\r\n",
      "4_convolutions.ipynb\tnotMNIST_large.tar.gz  Untitled.ipynb\r\n",
      "5_word2vec.ipynb\tnotMNIST.pickle\r\n",
      "6_lstm.ipynb\t\tnotMNIST_small\r\n"
     ]
    }
   ],
   "source": [
    "ls"
   ]
  },
  {
   "cell_type": "markdown",
   "metadata": {},
   "source": [
    "## The good things:\n",
    "* we can write Markdown\n",
    "* We can write actual scripts\n",
    "* We can save the NOTEBOOK session (share it, read it later)\n",
    "* We can even put it in a server and work interactibly with other people\n",
    "\n",
    "\n",
    "This is a little explanation of an example"
   ]
  },
  {
   "cell_type": "code",
   "execution_count": 1,
   "metadata": {
    "collapsed": false
   },
   "outputs": [
    {
     "name": "stdout",
     "output_type": "stream",
     "text": [
      "MKDIR(1)                         User Commands                        MKDIR(1)\r\n",
      "\r\n",
      "N\bNA\bAM\bME\bE\r\n",
      "       mkdir - make directories\r\n",
      "\r\n",
      "S\bSY\bYN\bNO\bOP\bPS\bSI\bIS\bS\r\n",
      "       m\bmk\bkd\bdi\bir\br [_\bO_\bP_\bT_\bI_\bO_\bN]... _\bD_\bI_\bR_\bE_\bC_\bT_\bO_\bR_\bY...\r\n",
      "\r\n",
      "D\bDE\bES\bSC\bCR\bRI\bIP\bPT\bTI\bIO\bON\bN\r\n",
      "       Create the DIRECTORY(ies), if they do not already exist.\r\n",
      "\r\n",
      "       Mandatory  arguments  to  long  options are mandatory for short options\r\n",
      "       too.\r\n",
      "\r\n",
      "       -\b-m\bm, -\b--\b-m\bmo\bod\bde\be=_\bM_\bO_\bD_\bE\r\n",
      "              set file mode (as in chmod), not a=rwx - umask\r\n",
      "\r\n",
      "       -\b-p\bp, -\b--\b-p\bpa\bar\bre\ben\bnt\bts\bs\r\n",
      "              no error if existing, make parent directories as needed\r\n",
      "\r\n",
      "       -\b-v\bv, -\b--\b-v\bve\ber\brb\bbo\bos\bse\be\r\n",
      "              print a message for each created directory\r\n",
      "\r\n",
      "       -\b-Z\bZ     set SELinux security context of each created  directory  to  the\r\n",
      "              default type\r\n",
      "\r\n",
      "       -\b--\b-c\bco\bon\bnt\bte\bex\bxt\bt[=_\bC_\bT_\bX]\r\n",
      "              like  -\b-Z\bZ,  or  if CTX is specified then set the SELinux or SMACK\r\n",
      "              security context to CTX\r\n",
      "\r\n",
      "       -\b--\b-h\bhe\bel\blp\bp display this help and exit\r\n",
      "\r\n",
      "       -\b--\b-v\bve\ber\brs\bsi\bio\bon\bn\r\n",
      "              output version information and exit\r\n",
      "\r\n",
      "A\bAU\bUT\bTH\bHO\bOR\bR\r\n",
      "       Written by David MacKenzie.\r\n",
      "\r\n",
      "R\bRE\bEP\bPO\bOR\bRT\bTI\bIN\bNG\bG B\bBU\bUG\bGS\bS\r\n",
      "       GNU coreutils online help: <http://www.gnu.org/software/coreutils/>\r\n",
      "       Report mkdir translation bugs to <http://translationproject.org/team/>\r\n",
      "\r\n",
      "C\bCO\bOP\bPY\bYR\bRI\bIG\bGH\bHT\bT\r\n",
      "       Copyright © 2014 Free Software Foundation, Inc.   License  GPLv3+:  GNU\r\n",
      "       GPL version 3 or later <http://gnu.org/licenses/gpl.html>.\r\n",
      "       This  is  free  software:  you  are free to change and redistribute it.\r\n",
      "       There is NO WARRANTY, to the extent permitted by law.\r\n",
      "\r\n",
      "S\bSE\bEE\bE A\bAL\bLS\bSO\bO\r\n",
      "       mkdir(2)\r\n",
      "\r\n",
      "       Full documentation at: <http://www.gnu.org/software/coreutils/mkdir>\r\n",
      "       or available locally via: info '(coreutils) mkdir invocation'\r\n",
      "\r\n",
      "GNU coreutils 8.23               October 2015                         MKDIR(1)\r\n"
     ]
    }
   ],
   "source": [
    "man mkdir"
   ]
  },
  {
   "cell_type": "code",
   "execution_count": 1,
   "metadata": {
    "collapsed": false
   },
   "outputs": [
    {
     "name": "stdout",
     "output_type": "stream",
     "text": [
      "CAT(1)                           User Commands                          CAT(1)\r\n",
      "\r\n",
      "N\bNA\bAM\bME\bE\r\n",
      "       cat - concatenate files and print on the standard output\r\n",
      "\r\n",
      "S\bSY\bYN\bNO\bOP\bPS\bSI\bIS\bS\r\n",
      "       c\bca\bat\bt [_\bO_\bP_\bT_\bI_\bO_\bN]... [_\bF_\bI_\bL_\bE]...\r\n",
      "\r\n",
      "D\bDE\bES\bSC\bCR\bRI\bIP\bPT\bTI\bIO\bON\bN\r\n",
      "       Concatenate FILE(s), or standard input, to standard output.\r\n",
      "\r\n",
      "       -\b-A\bA, -\b--\b-s\bsh\bho\bow\bw-\b-a\bal\bll\bl\r\n",
      "              equivalent to -\b-v\bvE\bET\bT\r\n",
      "\r\n",
      "       -\b-b\bb, -\b--\b-n\bnu\bum\bmb\bbe\ber\br-\b-n\bno\bon\bnb\bbl\bla\ban\bnk\bk\r\n",
      "              number nonempty output lines, overrides -\b-n\bn\r\n",
      "\r\n",
      "       -\b-e\be     equivalent to -\b-v\bvE\bE\r\n",
      "\r\n",
      "       -\b-E\bE, -\b--\b-s\bsh\bho\bow\bw-\b-e\ben\bnd\bds\bs\r\n",
      "              display $ at end of each line\r\n",
      "\r\n",
      "       -\b-n\bn, -\b--\b-n\bnu\bum\bmb\bbe\ber\br\r\n",
      "              number all output lines\r\n",
      "\r\n",
      "       -\b-s\bs, -\b--\b-s\bsq\bqu\bue\bee\bez\bze\be-\b-b\bbl\bla\ban\bnk\bk\r\n",
      "              suppress repeated empty output lines\r\n",
      "\r\n",
      "       -\b-t\bt     equivalent to -\b-v\bvT\bT\r\n",
      "\r\n",
      "       -\b-T\bT, -\b--\b-s\bsh\bho\bow\bw-\b-t\bta\bab\bbs\bs\r\n",
      "              display TAB characters as ^I\r\n",
      "\r\n",
      "       -\b-u\bu     (ignored)\r\n",
      "\r\n",
      "       -\b-v\bv, -\b--\b-s\bsh\bho\bow\bw-\b-n\bno\bon\bnp\bpr\bri\bin\bnt\bti\bin\bng\bg\r\n",
      "              use ^ and M- notation, except for LFD and TAB\r\n",
      "\r\n",
      "       -\b--\b-h\bhe\bel\blp\bp display this help and exit\r\n",
      "\r\n",
      "       -\b--\b-v\bve\ber\brs\bsi\bio\bon\bn\r\n",
      "              output version information and exit\r\n",
      "\r\n",
      "       With no FILE, or when FILE is -, read standard input.\r\n",
      "\r\n",
      "E\bEX\bXA\bAM\bMP\bPL\bLE\bES\bS\r\n",
      "       cat f - g\r\n",
      "              Output f's contents, then standard input, then g's contents.\r\n",
      "\r\n",
      "       cat    Copy standard input to standard output.\r\n",
      "\r\n",
      "A\bAU\bUT\bTH\bHO\bOR\bR\r\n",
      "       Written by Torbjorn Granlund and Richard M. Stallman.\r\n",
      "\r\n",
      "R\bRE\bEP\bPO\bOR\bRT\bTI\bIN\bNG\bG B\bBU\bUG\bGS\bS\r\n",
      "       GNU coreutils online help: <http://www.gnu.org/software/coreutils/>\r\n",
      "       Report cat translation bugs to <http://translationproject.org/team/>\r\n",
      "\r\n",
      "C\bCO\bOP\bPY\bYR\bRI\bIG\bGH\bHT\bT\r\n",
      "       Copyright  ©  2014  Free Software Foundation, Inc.  License GPLv3+: GNU\r\n",
      "       GPL version 3 or later <http://gnu.org/licenses/gpl.html>.\r\n",
      "       This is free software: you are free  to  change  and  redistribute  it.\r\n",
      "       There is NO WARRANTY, to the extent permitted by law.\r\n",
      "\r\n",
      "S\bSE\bEE\bE A\bAL\bLS\bSO\bO\r\n",
      "       t\bta\bac\bc(1)\r\n",
      "\r\n",
      "       Full documentation at: <http://www.gnu.org/software/coreutils/cat>\r\n",
      "       or available locally via: info '(coreutils) cat invocation'\r\n",
      "\r\n",
      "GNU coreutils 8.23               October 2015                           CAT(1)\r\n"
     ]
    }
   ],
   "source": [
    "man cat"
   ]
  },
  {
   "cell_type": "code",
   "execution_count": 2,
   "metadata": {
    "collapsed": false
   },
   "outputs": [
    {
     "name": "stdout",
     "output_type": "stream",
     "text": [
      "/home/leo/DeepLearning/tensorflow/tensorflow/examples/udacity\r\n"
     ]
    }
   ],
   "source": [
    "pwd"
   ]
  },
  {
   "cell_type": "code",
   "execution_count": null,
   "metadata": {
    "collapsed": true
   },
   "outputs": [],
   "source": []
  }
 ],
 "metadata": {
  "kernelspec": {
   "display_name": "Bash",
   "language": "bash",
   "name": "bash"
  },
  "language_info": {
   "codemirror_mode": "shell",
   "file_extension": ".sh",
   "mimetype": "text/x-sh",
   "name": "bash"
  }
 },
 "nbformat": 4,
 "nbformat_minor": 0
}
