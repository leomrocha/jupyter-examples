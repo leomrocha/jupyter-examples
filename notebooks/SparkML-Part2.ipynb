{
 "cells": [
  {
   "cell_type": "markdown",
   "metadata": {},
   "source": [
    "# Extracting, transforming and selecting features - spark.ml\n",
    "\n",
    "This section covers algorithms for working with features, roughly divided into these groups:\n",
    "\n",
    "- Extraction: Extracting features from “raw” data\n",
    "- Transformation: Scaling, converting, or modifying features\n",
    "- Selection: Selecting a subset from a larger set of features"
   ]
  },
  {
   "cell_type": "markdown",
   "metadata": {},
   "source": [
    "## Table of Contents\n",
    "\n",
    "1. Feature Extractors\n",
    "    - TF-IDF (HashingTF and IDF)\n",
    "    - Word2Vec\n",
    "    - CountVectorizer\n",
    "2. Feature Transformers\n",
    "    - Tokenizer\n",
    "    - StopWordsRemover\n",
    "    - nn-gram\n",
    "    - Binarizer\n",
    "    - PCA\n",
    "    - PolynomialExpansion\n",
    "    - Discrete Cosine Transform (DCT)\n",
    "    - StringIndexer\n",
    "    - IndexToString\n",
    "    - OneHotEncoder\n",
    "    - VectorIndexer\n",
    "    - Normalizer\n",
    "    - StandardScaler\n",
    "    - MinMaxScaler\n",
    "    - Bucketizer\n",
    "    - ElementwiseProduct\n",
    "    - SQLTransformer\n",
    "    - VectorAssembler\n",
    "    - QuantileDiscretizer\n",
    "3. Feature Selectors\n",
    "    - VectorSlicer\n",
    "    - RFormula\n",
    "    - ChiSqSelector\n",
    "\n",
    "## Feature Extractors\n",
    "\n",
    "### TF-IDF (HashingTF and IDF)\n",
    "\n",
    "Term Frequency-Inverse Document Frequency (TF-IDF) is a common text pre-processing step. In Spark ML, TF-IDF is separate into two parts: TF (+hashing) and IDF.\n",
    "\n",
    "- *TF:* HashingTF is a Transformer which takes sets of terms and converts those sets into fixed-length feature vectors. In text processing, a “set of terms” might be a bag of words. The algorithm combines Term Frequency (TF) counts with the hashing trick for dimensionality reduction.\n",
    "\n",
    "- *IDF:* IDF is an Estimator which fits on a dataset and produces an IDFModel. The IDFModel takes feature vectors (generally created from HashingTF) and scales each column. Intuitively, it down-weights columns which appear frequently in a corpus.\n",
    "\n",
    "Please refer to the MLlib user guide on TF-IDF for more details on Term Frequency and Inverse Document Frequency."
   ]
  },
  {
   "cell_type": "markdown",
   "metadata": {},
   "source": [
    "### Adding the library dependencies\n"
   ]
  },
  {
   "cell_type": "code",
   "execution_count": 1,
   "metadata": {
    "collapsed": false
   },
   "outputs": [
    {
     "name": "stdout",
     "output_type": "stream",
     "text": [
      "Adding 130 artifact(s)\n",
      "Adding 11 artifact(s)\n",
      "Adding 1 artifact(s)\n",
      "Adding 16 artifact(s)\n"
     ]
    },
    {
     "data": {
      "text/plain": []
     },
     "metadata": {},
     "output_type": "display_data"
    }
   ],
   "source": [
    "classpath.add(\"org.apache.spark\" %% \"spark-core\" % \"1.6.0\")\n",
    "classpath.add(\"org.apache.spark\" %% \"spark-sql\" % \"1.6.0\")\n",
    "// classpath.add(\"org.apache.spark\" %% \"spark-hive\" % \"1.6.0\")\n",
    "classpath.add(\"org.apache.spark\" %% \"spark-streaming\" % \"1.6.0\")\n",
    "// classpath.add(\"org.apache.spark\" %% \"spark-streaming-kafka\" % \"1.6.0\")\n",
    "// classpath.add(\"org.apache.spark\" %% \"spark-streaming-flume\" % \"1.6.0\")\n",
    "classpath.add(\"org.apache.spark\" %% \"spark-mllib\" % \"1.6.0\")"
   ]
  },
  {
   "cell_type": "code",
   "execution_count": 2,
   "metadata": {
    "collapsed": false
   },
   "outputs": [
    {
     "name": "stdout",
     "output_type": "stream",
     "text": [
      "Adding 2 artifact(s)\n",
      "Adding 17 artifact(s)\n",
      "Adding 8 artifact(s)\n"
     ]
    },
    {
     "data": {
      "text/plain": []
     },
     "metadata": {},
     "output_type": "display_data"
    }
   ],
   "source": [
    "classpath.add(\"org.scalanlp\" %% \"breeze\" % \"0.12\")\n",
    "classpath.add(\"org.scalanlp\" %% \"breeze-natives\" % \"0.12\")\n",
    "classpath.add(\"org.scalanlp\" %% \"breeze-viz\" % \"0.12\")"
   ]
  },
  {
   "cell_type": "markdown",
   "metadata": {},
   "source": [
    "### Preparing Spark and Spark SQL instances needed for the rest of the process"
   ]
  },
  {
   "cell_type": "code",
   "execution_count": 3,
   "metadata": {
    "collapsed": false
   },
   "outputs": [
    {
     "data": {
      "text/plain": [
       "\u001b[32mimport \u001b[36morg.apache.spark.{ SparkConf, SparkContext }\u001b[0m\n",
       "\u001b[32mimport \u001b[36morg.apache.spark.sql.SQLContext\u001b[0m\n",
       "\u001b[32mimport \u001b[36morg.apache.spark.ml.feature.{HashingTF, IDF, Tokenizer}\u001b[0m"
      ]
     },
     "metadata": {},
     "output_type": "display_data"
    }
   ],
   "source": [
    "import org.apache.spark.{ SparkConf, SparkContext }\n",
    "import org.apache.spark.sql.SQLContext\n",
    "import org.apache.spark.ml.feature.{HashingTF, IDF, Tokenizer}"
   ]
  },
  {
   "cell_type": "code",
   "execution_count": 4,
   "metadata": {
    "collapsed": false
   },
   "outputs": [
    {
     "name": "stderr",
     "output_type": "stream",
     "text": [
      "Using Spark's default log4j profile: org/apache/spark/log4j-defaults.properties\n",
      "16/03/02 13:49:36 INFO SparkContext: Running Spark version 1.6.0\n",
      "16/03/02 13:49:37 WARN NativeCodeLoader: Unable to load native-hadoop library for your platform... using builtin-java classes where applicable\n",
      "16/03/02 13:49:37 WARN Utils: Your hostname, deepl resolves to a loopback address: 127.0.1.1; using 10.0.2.15 instead (on interface enp0s3)\n",
      "16/03/02 13:49:37 WARN Utils: Set SPARK_LOCAL_IP if you need to bind to another address\n",
      "16/03/02 13:49:37 INFO SecurityManager: Changing view acls to: leo\n",
      "16/03/02 13:49:37 INFO SecurityManager: Changing modify acls to: leo\n",
      "16/03/02 13:49:37 INFO SecurityManager: SecurityManager: authentication disabled; ui acls disabled; users with view permissions: Set(leo); users with modify permissions: Set(leo)\n",
      "16/03/02 13:49:38 INFO Utils: Successfully started service 'sparkDriver' on port 45451.\n",
      "16/03/02 13:49:38 INFO Slf4jLogger: Slf4jLogger started\n",
      "16/03/02 13:49:38 INFO Remoting: Starting remoting\n",
      "16/03/02 13:49:39 INFO Remoting: Remoting started; listening on addresses :[akka.tcp://sparkDriverActorSystem@10.0.2.15:45019]\n",
      "16/03/02 13:49:39 INFO Utils: Successfully started service 'sparkDriverActorSystem' on port 45019.\n",
      "16/03/02 13:49:39 INFO SparkEnv: Registering MapOutputTracker\n",
      "16/03/02 13:49:39 INFO SparkEnv: Registering BlockManagerMaster\n",
      "16/03/02 13:49:39 INFO DiskBlockManager: Created local directory at /tmp/blockmgr-a41417b7-c4f0-46df-aa0e-eca38e49ef0d\n",
      "16/03/02 13:49:39 INFO MemoryStore: MemoryStore started with capacity 1603.1 MB\n",
      "16/03/02 13:49:39 INFO SparkEnv: Registering OutputCommitCoordinator\n",
      "16/03/02 13:49:40 INFO Utils: Successfully started service 'SparkUI' on port 4040.\n",
      "16/03/02 13:49:40 INFO SparkUI: Started SparkUI at http://10.0.2.15:4040\n",
      "16/03/02 13:49:40 INFO Executor: Starting executor ID driver on host localhost\n",
      "16/03/02 13:49:40 INFO Utils: Successfully started service 'org.apache.spark.network.netty.NettyBlockTransferService' on port 45384.\n",
      "16/03/02 13:49:40 INFO NettyBlockTransferService: Server created on 45384\n",
      "16/03/02 13:49:40 INFO BlockManagerMaster: Trying to register BlockManager\n",
      "16/03/02 13:49:40 INFO BlockManagerMasterEndpoint: Registering block manager localhost:45384 with 1603.1 MB RAM, BlockManagerId(driver, localhost, 45384)\n",
      "16/03/02 13:49:40 INFO BlockManagerMaster: Registered BlockManager\n"
     ]
    },
    {
     "data": {
      "text/plain": [
       "\u001b[36msparkConf\u001b[0m: \u001b[32mSparkConf\u001b[0m = org.apache.spark.SparkConf@23b61543\n",
       "\u001b[36msc\u001b[0m: \u001b[32mSparkContext\u001b[0m = org.apache.spark.SparkContext@76920c76\n",
       "\u001b[36msqlContext\u001b[0m: \u001b[32mSQLContext\u001b[0m = org.apache.spark.sql.SQLContext@43867e47"
      ]
     },
     "metadata": {},
     "output_type": "display_data"
    }
   ],
   "source": [
    "//this is an example spark configuration, the setMaster is absolutely needed to be able to connect to the spark service\n",
    "val sparkConf = new SparkConf()\n",
    "      .setAppName(\"JupyterScalaTest\")\n",
    "      .setMaster(\"local\")\n",
    "\n",
    "val sc = new SparkContext(sparkConf)\n",
    "val sqlContext = new SQLContext(sc)"
   ]
  },
  {
   "cell_type": "markdown",
   "metadata": {},
   "source": [
    "### Starting with the examples"
   ]
  },
  {
   "cell_type": "markdown",
   "metadata": {},
   "source": [
    "In the following code segment, we start with a set of sentences. We split each sentence into words using Tokenizer. For each sentence (bag of words), we use HashingTF to hash the sentence into a feature vector. We use IDF to rescale the feature vectors; this generally improves performance when using text as features. Our feature vectors could then be passed to a learning algorithm.\n",
    "\n",
    "Refer to the HashingTF Scala docs and the IDF Scala docs for more details on the API."
   ]
  },
  {
   "cell_type": "code",
   "execution_count": 5,
   "metadata": {
    "collapsed": false
   },
   "outputs": [
    {
     "data": {
      "text/plain": [
       "\u001b[36msentenceData\u001b[0m: \u001b[32morg\u001b[0m.\u001b[32mapache\u001b[0m.\u001b[32mspark\u001b[0m.\u001b[32msql\u001b[0m.\u001b[32mDataFrame\u001b[0m = [label: int, sentence: string]"
      ]
     },
     "metadata": {},
     "output_type": "display_data"
    }
   ],
   "source": [
    "val sentenceData = sqlContext.createDataFrame(Seq(\n",
    "  (0, \"Hi I heard about Spark\"),\n",
    "  (0, \"I wish Java could use case classes\"),\n",
    "  (1, \"Logistic regression models are neat\")\n",
    ")).toDF(\"label\", \"sentence\")"
   ]
  },
  {
   "cell_type": "markdown",
   "metadata": {},
   "source": [
    "#### Obtain bag of words representation"
   ]
  },
  {
   "cell_type": "code",
   "execution_count": 7,
   "metadata": {
    "collapsed": false
   },
   "outputs": [
    {
     "data": {
      "text/plain": [
       "\u001b[36mtokenizer\u001b[0m: \u001b[32mTokenizer\u001b[0m = tok_aa3e1abed2a9"
      ]
     },
     "metadata": {},
     "output_type": "display_data"
    }
   ],
   "source": [
    "val tokenizer = new Tokenizer().setInputCol(\"sentence\").setOutputCol(\"words\")"
   ]
  },
  {
   "cell_type": "code",
   "execution_count": 13,
   "metadata": {
    "collapsed": false
   },
   "outputs": [
    {
     "name": "stdout",
     "output_type": "stream",
     "text": [
      "tok_aa3e1abed2a9"
     ]
    },
    {
     "data": {
      "text/plain": []
     },
     "metadata": {},
     "output_type": "display_data"
    }
   ],
   "source": [
    "show(tokenizer)"
   ]
  },
  {
   "cell_type": "code",
   "execution_count": 9,
   "metadata": {
    "collapsed": false
   },
   "outputs": [
    {
     "data": {
      "text/plain": [
       "\u001b[36mwordsData\u001b[0m: \u001b[32morg\u001b[0m.\u001b[32mapache\u001b[0m.\u001b[32mspark\u001b[0m.\u001b[32msql\u001b[0m.\u001b[32mDataFrame\u001b[0m = [label: int, sentence: string, words: array<string>]"
      ]
     },
     "metadata": {},
     "output_type": "display_data"
    }
   ],
   "source": [
    "val wordsData = tokenizer.transform(sentenceData)"
   ]
  },
  {
   "cell_type": "code",
   "execution_count": 12,
   "metadata": {
    "collapsed": false
   },
   "outputs": [
    {
     "data": {
      "text/plain": [
       "\u001b[36mres11\u001b[0m: \u001b[32morg\u001b[0m.\u001b[32mapache\u001b[0m.\u001b[32mspark\u001b[0m.\u001b[32msql\u001b[0m.\u001b[32mRow\u001b[0m = [0,Hi I heard about Spark,WrappedArray(hi, i, heard, about, spark)]"
      ]
     },
     "metadata": {},
     "output_type": "display_data"
    }
   ],
   "source": [
    "wordsData.first"
   ]
  },
  {
   "cell_type": "markdown",
   "metadata": {},
   "source": [
    "#### Create features hashing the bag of words\n",
    "\n",
    "The created features respect the TF part of the [TF-IDF (term frequency–inverse document frequency)](https://en.wikipedia.org/wiki/Tf%E2%80%93idf) numerical statistics"
   ]
  },
  {
   "cell_type": "code",
   "execution_count": 14,
   "metadata": {
    "collapsed": false
   },
   "outputs": [
    {
     "data": {
      "text/plain": [
       "\u001b[36mhashingTF\u001b[0m: \u001b[32mHashingTF\u001b[0m = hashingTF_bf08d027dd09"
      ]
     },
     "metadata": {},
     "output_type": "display_data"
    }
   ],
   "source": [
    "val hashingTF = new HashingTF()\n",
    "  .setInputCol(\"words\").setOutputCol(\"rawFeatures\").setNumFeatures(20)"
   ]
  },
  {
   "cell_type": "code",
   "execution_count": 15,
   "metadata": {
    "collapsed": false
   },
   "outputs": [
    {
     "data": {
      "text/plain": [
       "\u001b[36mres14\u001b[0m: \u001b[32mHashingTF\u001b[0m = hashingTF_bf08d027dd09"
      ]
     },
     "metadata": {},
     "output_type": "display_data"
    }
   ],
   "source": [
    "hashingTF"
   ]
  },
  {
   "cell_type": "code",
   "execution_count": 16,
   "metadata": {
    "collapsed": false
   },
   "outputs": [
    {
     "data": {
      "text/plain": [
       "\u001b[36mfeaturizedData\u001b[0m: \u001b[32morg\u001b[0m.\u001b[32mapache\u001b[0m.\u001b[32mspark\u001b[0m.\u001b[32msql\u001b[0m.\u001b[32mDataFrame\u001b[0m = [label: int, sentence: string, words: array<string>, rawFeatures: vector]"
      ]
     },
     "metadata": {},
     "output_type": "display_data"
    }
   ],
   "source": [
    "val featurizedData = hashingTF.transform(wordsData)"
   ]
  },
  {
   "cell_type": "code",
   "execution_count": 17,
   "metadata": {
    "collapsed": false
   },
   "outputs": [
    {
     "data": {
      "text/plain": [
       "\u001b[36mres16\u001b[0m: \u001b[32morg\u001b[0m.\u001b[32mapache\u001b[0m.\u001b[32mspark\u001b[0m.\u001b[32msql\u001b[0m.\u001b[32mRow\u001b[0m = [0,Hi I heard about Spark,WrappedArray(hi, i, heard, about, spark),(20,[5,6,9],[2.0,1.0,2.0])]"
      ]
     },
     "metadata": {},
     "output_type": "display_data"
    }
   ],
   "source": [
    "featurizedData.first"
   ]
  },
  {
   "cell_type": "markdown",
   "metadata": {},
   "source": [
    "#### Now calculating the IDF of the IF\n",
    "Inverse Document Frequency, this is to take in account common words that are actually not really important (as THE, A, I .... etc)"
   ]
  },
  {
   "cell_type": "code",
   "execution_count": 19,
   "metadata": {
    "collapsed": false
   },
   "outputs": [
    {
     "data": {
      "text/plain": [
       "\u001b[36midf\u001b[0m: \u001b[32mIDF\u001b[0m = idf_9cd283f0ee9b"
      ]
     },
     "metadata": {},
     "output_type": "display_data"
    }
   ],
   "source": [
    "val idf = new IDF().setInputCol(\"rawFeatures\").setOutputCol(\"features\")"
   ]
  },
  {
   "cell_type": "code",
   "execution_count": 20,
   "metadata": {
    "collapsed": false
   },
   "outputs": [
    {
     "data": {
      "text/plain": [
       "\u001b[36midfModel\u001b[0m: \u001b[32morg\u001b[0m.\u001b[32mapache\u001b[0m.\u001b[32mspark\u001b[0m.\u001b[32mml\u001b[0m.\u001b[32mfeature\u001b[0m.\u001b[32mIDFModel\u001b[0m = idf_9cd283f0ee9b"
      ]
     },
     "metadata": {},
     "output_type": "display_data"
    }
   ],
   "source": [
    "val idfModel = idf.fit(featurizedData)"
   ]
  },
  {
   "cell_type": "code",
   "execution_count": 21,
   "metadata": {
    "collapsed": false
   },
   "outputs": [
    {
     "name": "stdout",
     "output_type": "stream",
     "text": [
      "[(20,[5,6,9],[0.0,0.6931471805599453,1.3862943611198906]),0]\n",
      "[(20,[3,5,12,14,18],[1.3862943611198906,0.0,0.28768207245178085,0.28768207245178085,0.28768207245178085]),0]\n",
      "[(20,[5,12,14,18],[0.0,0.5753641449035617,0.28768207245178085,0.28768207245178085]),1]\n"
     ]
    },
    {
     "data": {
      "text/plain": [
       "\u001b[36mrescaledData\u001b[0m: \u001b[32morg\u001b[0m.\u001b[32mapache\u001b[0m.\u001b[32mspark\u001b[0m.\u001b[32msql\u001b[0m.\u001b[32mDataFrame\u001b[0m = [label: int, sentence: string, words: array<string>, rawFeatures: vector, features: vector]"
      ]
     },
     "metadata": {},
     "output_type": "display_data"
    }
   ],
   "source": [
    "val rescaledData = idfModel.transform(featurizedData)\n",
    "rescaledData.select(\"features\", \"label\").take(3).foreach(println)"
   ]
  },
  {
   "cell_type": "code",
   "execution_count": 22,
   "metadata": {
    "collapsed": false
   },
   "outputs": [
    {
     "data": {
      "text/plain": [
       "\u001b[36mres21\u001b[0m: \u001b[32morg\u001b[0m.\u001b[32mapache\u001b[0m.\u001b[32mspark\u001b[0m.\u001b[32msql\u001b[0m.\u001b[32mRow\u001b[0m = [0,Hi I heard about Spark,WrappedArray(hi, i, heard, about, spark),(20,[5,6,9],[2.0,1.0,2.0]),(20,[5,6,9],[0.0,0.6931471805599453,1.3862943611198906])]"
      ]
     },
     "metadata": {},
     "output_type": "display_data"
    }
   ],
   "source": [
    "rescaledData.first"
   ]
  },
  {
   "cell_type": "markdown",
   "metadata": {},
   "source": [
    "## Word2Vec\n",
    "\n",
    "Word2Vec is an Estimator which takes sequences of words representing documents and trains a Word2VecModel. The model maps each word to a unique fixed-size vector. The Word2VecModel transforms each document into a vector using the average of all words in the document; this vector can then be used for as features for prediction, document similarity calculations, etc. Please refer to the MLlib user guide on Word2Vec for more details.\n",
    "\n",
    "In the following code segment, we start with a set of documents, each of which is represented as a sequence of words. For each document, we transform it into a feature vector. This feature vector could then be passed to a learning algorithm."
   ]
  },
  {
   "cell_type": "code",
   "execution_count": 23,
   "metadata": {
    "collapsed": false
   },
   "outputs": [
    {
     "data": {
      "text/plain": [
       "\u001b[32mimport \u001b[36morg.apache.spark.ml.feature.Word2Vec\u001b[0m"
      ]
     },
     "metadata": {},
     "output_type": "display_data"
    }
   ],
   "source": [
    "import org.apache.spark.ml.feature.Word2Vec"
   ]
  },
  {
   "cell_type": "code",
   "execution_count": 24,
   "metadata": {
    "collapsed": false
   },
   "outputs": [
    {
     "data": {
      "text/plain": [
       "\u001b[36mdocumentDF\u001b[0m: \u001b[32morg\u001b[0m.\u001b[32mapache\u001b[0m.\u001b[32mspark\u001b[0m.\u001b[32msql\u001b[0m.\u001b[32mDataFrame\u001b[0m = [text: array<string>]"
      ]
     },
     "metadata": {},
     "output_type": "display_data"
    }
   ],
   "source": [
    "// Input data: Each row is a bag of words from a sentence or document.\n",
    "val documentDF = sqlContext.createDataFrame(Seq(\n",
    "  \"Hi I heard about Spark\".split(\" \"),\n",
    "  \"I wish Java could use case classes\".split(\" \"),\n",
    "  \"Logistic regression models are neat\".split(\" \")\n",
    ").map(Tuple1.apply)).toDF(\"text\")"
   ]
  },
  {
   "cell_type": "code",
   "execution_count": 25,
   "metadata": {
    "collapsed": false
   },
   "outputs": [
    {
     "data": {
      "text/plain": [
       "\u001b[36mres24\u001b[0m: \u001b[32morg\u001b[0m.\u001b[32mapache\u001b[0m.\u001b[32mspark\u001b[0m.\u001b[32msql\u001b[0m.\u001b[32mRow\u001b[0m = [WrappedArray(Hi, I, heard, about, Spark)]"
      ]
     },
     "metadata": {},
     "output_type": "display_data"
    }
   ],
   "source": [
    "documentDF.first"
   ]
  },
  {
   "cell_type": "code",
   "execution_count": 26,
   "metadata": {
    "collapsed": false
   },
   "outputs": [
    {
     "data": {
      "text/plain": [
       "\u001b[36mword2Vec\u001b[0m: \u001b[32mWord2Vec\u001b[0m = w2v_a791a34bc2d6"
      ]
     },
     "metadata": {},
     "output_type": "display_data"
    }
   ],
   "source": [
    "// Learn a mapping from words to Vectors.\n",
    "val word2Vec = new Word2Vec()\n",
    "  .setInputCol(\"text\")\n",
    "  .setOutputCol(\"result\")\n",
    "  .setVectorSize(3)\n",
    "  .setMinCount(0)"
   ]
  },
  {
   "cell_type": "code",
   "execution_count": 27,
   "metadata": {
    "collapsed": false
   },
   "outputs": [
    {
     "data": {
      "text/plain": [
       "\u001b[36mmodel\u001b[0m: \u001b[32morg\u001b[0m.\u001b[32mapache\u001b[0m.\u001b[32mspark\u001b[0m.\u001b[32mml\u001b[0m.\u001b[32mfeature\u001b[0m.\u001b[32mWord2VecModel\u001b[0m = w2v_a791a34bc2d6\n",
       "\u001b[36mresult\u001b[0m: \u001b[32morg\u001b[0m.\u001b[32mapache\u001b[0m.\u001b[32mspark\u001b[0m.\u001b[32msql\u001b[0m.\u001b[32mDataFrame\u001b[0m = [text: array<string>, result: vector]"
      ]
     },
     "metadata": {},
     "output_type": "display_data"
    }
   ],
   "source": [
    "val model = word2Vec.fit(documentDF)\n",
    "val result = model.transform(documentDF)"
   ]
  },
  {
   "cell_type": "code",
   "execution_count": 29,
   "metadata": {
    "collapsed": false
   },
   "outputs": [
    {
     "data": {
      "text/plain": [
       "\u001b[36mres28\u001b[0m: \u001b[32morg\u001b[0m.\u001b[32mapache\u001b[0m.\u001b[32mspark\u001b[0m.\u001b[32msql\u001b[0m.\u001b[32mRow\u001b[0m = [WrappedArray(Hi, I, heard, about, Spark),[-0.028112974017858505,0.04561481792479754,-0.01327155358158052]]"
      ]
     },
     "metadata": {},
     "output_type": "display_data"
    }
   ],
   "source": [
    "result.first"
   ]
  },
  {
   "cell_type": "code",
   "execution_count": 28,
   "metadata": {
    "collapsed": false
   },
   "outputs": [
    {
     "name": "stdout",
     "output_type": "stream",
     "text": [
      "[[-0.028112974017858505,0.04561481792479754,-0.01327155358158052]]\n",
      "[[0.0685168526002339,-0.025799544561388235,0.021479193653379167]]\n",
      "[[0.023869601637125017,0.02791164666414261,0.033145397901535034]]\n"
     ]
    },
    {
     "data": {
      "text/plain": []
     },
     "metadata": {},
     "output_type": "display_data"
    }
   ],
   "source": [
    "result.select(\"result\").take(3).foreach(println)"
   ]
  },
  {
   "cell_type": "code",
   "execution_count": 31,
   "metadata": {
    "collapsed": false
   },
   "outputs": [
    {
     "data": {
      "text/plain": [
       "\u001b[36msynonyms\u001b[0m: \u001b[32morg\u001b[0m.\u001b[32mapache\u001b[0m.\u001b[32mspark\u001b[0m.\u001b[32msql\u001b[0m.\u001b[32mDataFrame\u001b[0m = [word: string, similarity: double]"
      ]
     },
     "metadata": {},
     "output_type": "display_data"
    }
   ],
   "source": [
    "val synonyms = model.findSynonyms(\"models\", 40)\n"
   ]
  },
  {
   "cell_type": "code",
   "execution_count": 31,
   "metadata": {
    "collapsed": false
   },
   "outputs": [
    {
     "ename": "",
     "evalue": "",
     "output_type": "error",
     "traceback": [
      "\u001b[31mMain.scala:25: missing parameter type for expanded function",
      "The argument types of an anonymous function must be fully known. (SLS 8.5)",
      "Expected type was: ?",
      "for((synonym, cosineSimilarity) <- synonyms) {",
      "                                   ^\u001b[0m"
     ]
    }
   ],
   "source": [
    "for((synonym, cosineSimilarity) <- synonyms) {\n",
    "  println(s\"$synonym $cosineSimilarity\")\n",
    "}"
   ]
  },
  {
   "cell_type": "markdown",
   "metadata": {},
   "source": [
    "## CountVectorizer\n",
    "\n",
    "CountVectorizer and CountVectorizerModel aim to help convert a collection of text documents to vectors of token counts. When an a-priori dictionary is not available, CountVectorizer can be used as an Estimator to extract the vocabulary and generates a CountVectorizerModel. The model produces sparse representations for the documents over the vocabulary, which can then be passed to other algorithms like LDA.\n",
    "\n",
    "During the fitting process, CountVectorizer will select the top vocabSize words ordered by term frequency across the corpus. An optional parameter “minDF” also affect the fitting process by specifying the minimum number (or fraction if < 1.0) of documents a term must appear in to be included in the vocabulary.\n",
    "\n",
    "Examples\n",
    "\n",
    "Assume that we have the following DataFrame with columns id and texts:\n",
    "\n",
    " id | texts\n",
    "----|----------\n",
    " 0  | Array(\"a\", \"b\", \"c\")\n",
    " 1  | Array(\"a\", \"b\", \"b\", \"c\", \"a\")\n",
    "each row intexts is a document of type Array[String]. Invoking fit of CountVectorizer produces a CountVectorizerModel with vocabulary (a, b, c), then the output column “vector” after transformation contains:\n",
    "\n",
    " id | texts                           | vector\n",
    "----|---------------------------------|---------------\n",
    " 0  | Array(\"a\", \"b\", \"c\")            | (3,[0,1,2],[1.0,1.0,1.0])\n",
    " 1  | Array(\"a\", \"b\", \"b\", \"c\", \"a\")  | (3,[0,1,2],[2.0,2.0,1.0])\n",
    "each vector represents the token counts of the document over the vocabulary."
   ]
  },
  {
   "cell_type": "code",
   "execution_count": 32,
   "metadata": {
    "collapsed": false
   },
   "outputs": [
    {
     "data": {
      "text/plain": [
       "\u001b[32mimport \u001b[36morg.apache.spark.ml.feature.{CountVectorizer, CountVectorizerModel}\u001b[0m"
      ]
     },
     "metadata": {},
     "output_type": "display_data"
    }
   ],
   "source": [
    "import org.apache.spark.ml.feature.{CountVectorizer, CountVectorizerModel}"
   ]
  },
  {
   "cell_type": "code",
   "execution_count": 33,
   "metadata": {
    "collapsed": false
   },
   "outputs": [
    {
     "data": {
      "text/plain": [
       "\u001b[36mdf\u001b[0m: \u001b[32morg\u001b[0m.\u001b[32mapache\u001b[0m.\u001b[32mspark\u001b[0m.\u001b[32msql\u001b[0m.\u001b[32mDataFrame\u001b[0m = [id: int, words: array<string>]"
      ]
     },
     "metadata": {},
     "output_type": "display_data"
    }
   ],
   "source": [
    "val df = sqlContext.createDataFrame(Seq(\n",
    "  (0, Array(\"a\", \"b\", \"c\")),\n",
    "  (1, Array(\"a\", \"b\", \"b\", \"c\", \"a\"))\n",
    ")).toDF(\"id\", \"words\")"
   ]
  },
  {
   "cell_type": "code",
   "execution_count": 34,
   "metadata": {
    "collapsed": false
   },
   "outputs": [
    {
     "data": {
      "text/plain": [
       "\u001b[36mcvModel\u001b[0m: \u001b[32mCountVectorizerModel\u001b[0m = cntVec_ed3a92dee661"
      ]
     },
     "metadata": {},
     "output_type": "display_data"
    }
   ],
   "source": [
    "// fit a CountVectorizerModel from the corpus\n",
    "val cvModel: CountVectorizerModel = new CountVectorizer()\n",
    "  .setInputCol(\"words\")\n",
    "  .setOutputCol(\"features\")\n",
    "  .setVocabSize(3)\n",
    "  .setMinDF(2)\n",
    "  .fit(df)"
   ]
  },
  {
   "cell_type": "code",
   "execution_count": 35,
   "metadata": {
    "collapsed": false
   },
   "outputs": [
    {
     "data": {
      "text/plain": [
       "\u001b[36mcvm\u001b[0m: \u001b[32mCountVectorizerModel\u001b[0m = cntVecModel_5c64269c3437"
      ]
     },
     "metadata": {},
     "output_type": "display_data"
    }
   ],
   "source": [
    "// alternatively, define CountVectorizerModel with a-priori vocabulary\n",
    "val cvm = new CountVectorizerModel(Array(\"a\", \"b\", \"c\"))\n",
    "  .setInputCol(\"words\")\n",
    "  .setOutputCol(\"features\")"
   ]
  },
  {
   "cell_type": "code",
   "execution_count": 36,
   "metadata": {
    "collapsed": false
   },
   "outputs": [
    {
     "name": "stdout",
     "output_type": "stream",
     "text": [
      "+--------------------+\n",
      "|            features|\n",
      "+--------------------+\n",
      "|(3,[0,1,2],[1.0,1...|\n",
      "|(3,[0,1,2],[2.0,2...|\n",
      "+--------------------+\n",
      "\n"
     ]
    },
    {
     "data": {
      "text/plain": []
     },
     "metadata": {},
     "output_type": "display_data"
    }
   ],
   "source": [
    "cvModel.transform(df).select(\"features\").show()"
   ]
  },
  {
   "cell_type": "markdown",
   "metadata": {},
   "source": [
    "## Feature Transformers\n",
    "\n",
    "### Tokenizer\n",
    "\n",
    "Tokenization is the process of taking text (such as a sentence) and breaking it into individual terms (usually words). A simple Tokenizer class provides this functionality. The example below shows how to split sentences into sequences of words.\n",
    "\n",
    "RegexTokenizer allows more advanced tokenization based on regular expression (regex) matching. By default, the parameter “pattern” (regex, default: \\s+) is used as delimiters to split the input text. Alternatively, users can set parameter “gaps” to false indicating the regex “pattern” denotes “tokens” rather than splitting gaps, and find all matching occurrences as the tokenization result."
   ]
  },
  {
   "cell_type": "code",
   "execution_count": null,
   "metadata": {
    "collapsed": true
   },
   "outputs": [],
   "source": [
    "import org.apache.spark.ml.feature.{RegexTokenizer, Tokenizer}"
   ]
  },
  {
   "cell_type": "code",
   "execution_count": null,
   "metadata": {
    "collapsed": true
   },
   "outputs": [],
   "source": [
    "val sentenceDataFrame = sqlContext.createDataFrame(Seq(\n",
    "  (0, \"Hi I heard about Spark\"),\n",
    "  (1, \"I wish Java could use case classes\"),\n",
    "  (2, \"Logistic,regression,models,are,neat\")\n",
    ")).toDF(\"label\", \"sentence\")"
   ]
  },
  {
   "cell_type": "code",
   "execution_count": null,
   "metadata": {
    "collapsed": true
   },
   "outputs": [],
   "source": [
    "val tokenizer = new Tokenizer().setInputCol(\"sentence\").setOutputCol(\"words\")\n",
    "val regexTokenizer = new RegexTokenizer()\n",
    "  .setInputCol(\"sentence\")\n",
    "  .setOutputCol(\"words\")\n",
    "  .setPattern(\"\\\\W\") // alternatively .setPattern(\"\\\\w+\").setGaps(false)"
   ]
  },
  {
   "cell_type": "code",
   "execution_count": null,
   "metadata": {
    "collapsed": true
   },
   "outputs": [],
   "source": [
    "val tokenized = tokenizer.transform(sentenceDataFrame)\n",
    "tokenized.select(\"words\", \"label\").take(3).foreach(println)\n",
    "val regexTokenized = regexTokenizer.transform(sentenceDataFrame)\n",
    "regexTokenized.select(\"words\", \"label\").take(3).foreach(println)"
   ]
  },
  {
   "cell_type": "code",
   "execution_count": null,
   "metadata": {
    "collapsed": true
   },
   "outputs": [],
   "source": [
    "### StopWordsRemover\n",
    "Stop words are words which should be excluded from the input, typically because the words appear frequently and don’t carry as much meaning.\n",
    "\n",
    "StopWordsRemover takes as input a sequence of strings (e.g. the output of a Tokenizer) and drops all the stop words from the input sequences. The list of stopwords is specified by the stopWords parameter. We provide a list of stop words by default, accessible by calling getStopWords on a newly instantiated StopWordsRemover instance. A boolean parameter caseSensitive indicates if the matches should be case sensitive (false by default).\n",
    "\n",
    "####Examples\n",
    "\n",
    "Assume that we have the following DataFrame with columns id and raw:\n",
    "\n",
    " id | raw\n",
    "----|----------\n",
    " 0  | [I, saw, the, red, baloon]\n",
    " 1  | [Mary, had, a, little, lamb]\n",
    "\n",
    "Applying StopWordsRemover with raw as the input column and filtered as the output column, we should get the following:\n",
    "\n",
    " id | raw                         | filtered\n",
    "----|-----------------------------|--------------------\n",
    " 0  | [I, saw, the, red, baloon]  |  [saw, red, baloon]\n",
    " 1  | [Mary, had, a, little, lamb]|[Mary, little, lamb]\n",
    "\n",
    "In filtered, the stop words “I”, “the”, “had”, and “a” have been filtered out."
   ]
  },
  {
   "cell_type": "code",
   "execution_count": 37,
   "metadata": {
    "collapsed": false
   },
   "outputs": [
    {
     "data": {
      "text/plain": [
       "\u001b[32mimport \u001b[36morg.apache.spark.ml.feature.StopWordsRemover\u001b[0m"
      ]
     },
     "metadata": {},
     "output_type": "display_data"
    }
   ],
   "source": [
    "import org.apache.spark.ml.feature.StopWordsRemover"
   ]
  },
  {
   "cell_type": "code",
   "execution_count": 38,
   "metadata": {
    "collapsed": false
   },
   "outputs": [
    {
     "data": {
      "text/plain": [
       "\u001b[36mremover\u001b[0m: \u001b[32mStopWordsRemover\u001b[0m = stopWords_5ae67dacb615"
      ]
     },
     "metadata": {},
     "output_type": "display_data"
    }
   ],
   "source": [
    "val remover = new StopWordsRemover()\n",
    "  .setInputCol(\"raw\")\n",
    "  .setOutputCol(\"filtered\")"
   ]
  },
  {
   "cell_type": "code",
   "execution_count": 39,
   "metadata": {
    "collapsed": false
   },
   "outputs": [
    {
     "data": {
      "text/plain": [
       "\u001b[36mdataSet\u001b[0m: \u001b[32morg\u001b[0m.\u001b[32mapache\u001b[0m.\u001b[32mspark\u001b[0m.\u001b[32msql\u001b[0m.\u001b[32mDataFrame\u001b[0m = [id: int, raw: array<string>]"
      ]
     },
     "metadata": {},
     "output_type": "display_data"
    }
   ],
   "source": [
    "val dataSet = sqlContext.createDataFrame(Seq(\n",
    "  (0, Seq(\"I\", \"saw\", \"the\", \"red\", \"baloon\")),\n",
    "  (1, Seq(\"Mary\", \"had\", \"a\", \"little\", \"lamb\"))\n",
    ")).toDF(\"id\", \"raw\")"
   ]
  },
  {
   "cell_type": "code",
   "execution_count": 40,
   "metadata": {
    "collapsed": false
   },
   "outputs": [
    {
     "name": "stdout",
     "output_type": "stream",
     "text": [
      "+---+--------------------+--------------------+\n",
      "| id|                 raw|            filtered|\n",
      "+---+--------------------+--------------------+\n",
      "|  0|[I, saw, the, red...|  [saw, red, baloon]|\n",
      "|  1|[Mary, had, a, li...|[Mary, little, lamb]|\n",
      "+---+--------------------+--------------------+\n",
      "\n"
     ]
    },
    {
     "data": {
      "text/plain": []
     },
     "metadata": {},
     "output_type": "display_data"
    }
   ],
   "source": [
    "remover.transform(dataSet).show()"
   ]
  },
  {
   "cell_type": "markdown",
   "metadata": {},
   "source": [
    "### nn-gram\n",
    "An n-gram is a sequence of nn tokens (typically words) for some integer nn. The NGram class can be used to transform input features into nn-grams.\n",
    "\n",
    "NGram takes as input a sequence of strings (e.g. the output of a Tokenizer). The parameter n is used to determine the number of terms in each nn-gram. The output will consist of a sequence of nn-grams where each nn-gram is represented by a space-delimited string of nn consecutive words. If the input sequence contains fewer than n strings, no output is produced."
   ]
  },
  {
   "cell_type": "code",
   "execution_count": 41,
   "metadata": {
    "collapsed": false
   },
   "outputs": [
    {
     "data": {
      "text/plain": [
       "\u001b[32mimport \u001b[36morg.apache.spark.ml.feature.NGram\u001b[0m"
      ]
     },
     "metadata": {},
     "output_type": "display_data"
    }
   ],
   "source": [
    "import org.apache.spark.ml.feature.NGram"
   ]
  },
  {
   "cell_type": "code",
   "execution_count": 44,
   "metadata": {
    "collapsed": false
   },
   "outputs": [
    {
     "data": {
      "text/plain": [
       "\u001b[36mwordDataFrame\u001b[0m: \u001b[32morg\u001b[0m.\u001b[32mapache\u001b[0m.\u001b[32mspark\u001b[0m.\u001b[32msql\u001b[0m.\u001b[32mDataFrame\u001b[0m = [label: int, words: array<string>]"
      ]
     },
     "metadata": {},
     "output_type": "display_data"
    }
   ],
   "source": [
    "val wordDataFrame = sqlContext.createDataFrame(Seq(\n",
    "  (0, Array(\"Hi\", \"I\", \"heard\", \"about\", \"Spark\")),\n",
    "  (1, Array(\"I\", \"wish\", \"Java\", \"could\", \"use\", \"case\", \"classes\")),\n",
    "  (2, Array(\"Logistic\", \"regression\", \"models\", \"are\", \"neat\"))\n",
    ")).toDF(\"label\", \"words\")"
   ]
  },
  {
   "cell_type": "code",
   "execution_count": 45,
   "metadata": {
    "collapsed": false
   },
   "outputs": [
    {
     "data": {
      "text/plain": [
       "\u001b[36mngram\u001b[0m: \u001b[32mNGram\u001b[0m = ngram_94ea25169698\n",
       "\u001b[36mres44_1\u001b[0m: \u001b[32mNGram\u001b[0m = ngram_94ea25169698\n",
       "\u001b[36mngramDataFrame\u001b[0m: \u001b[32morg\u001b[0m.\u001b[32mapache\u001b[0m.\u001b[32mspark\u001b[0m.\u001b[32msql\u001b[0m.\u001b[32mDataFrame\u001b[0m = [label: int, words: array<string>, ngrams: array<string>]"
      ]
     },
     "metadata": {},
     "output_type": "display_data"
    }
   ],
   "source": [
    "val ngram = new NGram().setInputCol(\"words\").setOutputCol(\"ngrams\")\n",
    "ngram.setN(3)\n",
    "val ngramDataFrame = ngram.transform(wordDataFrame)"
   ]
  },
  {
   "cell_type": "code",
   "execution_count": 46,
   "metadata": {
    "collapsed": false
   },
   "outputs": [
    {
     "name": "stdout",
     "output_type": "stream",
     "text": [
      "List(Hi I heard, I heard about, heard about Spark)\n",
      "List(I wish Java, wish Java could, Java could use, could use case, use case classes)\n",
      "List(Logistic regression models, regression models are, models are neat)\n"
     ]
    },
    {
     "data": {
      "text/plain": []
     },
     "metadata": {},
     "output_type": "display_data"
    }
   ],
   "source": [
    "ngramDataFrame.take(3).map(_.getAs[Stream[String]](\"ngrams\").toList).foreach(println)"
   ]
  },
  {
   "cell_type": "markdown",
   "metadata": {},
   "source": [
    "### Binarizer\n",
    "\n",
    "Binarization is the process of thresholding numerical features to binary (0/1) features.\n",
    "\n",
    "Binarizer takes the common parameters inputCol and outputCol, as well as the threshold for binarization. Feature values greater than the threshold are binarized to 1.0; values equal to or less than the threshold are binarized to 0.0."
   ]
  },
  {
   "cell_type": "code",
   "execution_count": 48,
   "metadata": {
    "collapsed": false
   },
   "outputs": [
    {
     "data": {
      "text/plain": [
       "\u001b[32mimport \u001b[36morg.apache.spark.ml.feature.Binarizer\u001b[0m\n",
       "\u001b[32mimport \u001b[36morg.apache.spark.sql.DataFrame\u001b[0m"
      ]
     },
     "metadata": {},
     "output_type": "display_data"
    }
   ],
   "source": [
    "import org.apache.spark.ml.feature.Binarizer\n",
    "import org.apache.spark.sql.DataFrame"
   ]
  },
  {
   "cell_type": "code",
   "execution_count": 49,
   "metadata": {
    "collapsed": false
   },
   "outputs": [
    {
     "data": {
      "text/plain": [
       "\u001b[36mdata\u001b[0m: \u001b[32mArray\u001b[0m[(\u001b[32mInt\u001b[0m, \u001b[32mDouble\u001b[0m)] = \u001b[33mArray\u001b[0m(\u001b[33m\u001b[0m(\u001b[32m0\u001b[0m, \u001b[32m0.1\u001b[0m), \u001b[33m\u001b[0m(\u001b[32m1\u001b[0m, \u001b[32m0.8\u001b[0m), \u001b[33m\u001b[0m(\u001b[32m2\u001b[0m, \u001b[32m0.2\u001b[0m))\n",
       "\u001b[36mdataFrame\u001b[0m: \u001b[32mDataFrame\u001b[0m = [label: int, feature: double]"
      ]
     },
     "metadata": {},
     "output_type": "display_data"
    }
   ],
   "source": [
    "val data = Array((0, 0.1), (1, 0.8), (2, 0.2))\n",
    "val dataFrame: DataFrame = sqlContext.createDataFrame(data).toDF(\"label\", \"feature\")"
   ]
  },
  {
   "cell_type": "code",
   "execution_count": 50,
   "metadata": {
    "collapsed": false
   },
   "outputs": [
    {
     "data": {
      "text/plain": [
       "\u001b[36mbinarizer\u001b[0m: \u001b[32mBinarizer\u001b[0m = binarizer_d7b28b5c1a3b\n",
       "\u001b[36mbinarizedDataFrame\u001b[0m: \u001b[32mDataFrame\u001b[0m = [label: int, feature: double, binarized_feature: double]\n",
       "\u001b[36mbinarizedFeatures\u001b[0m: \u001b[32mDataFrame\u001b[0m = [binarized_feature: double]"
      ]
     },
     "metadata": {},
     "output_type": "display_data"
    }
   ],
   "source": [
    "val binarizer: Binarizer = new Binarizer()\n",
    "  .setInputCol(\"feature\")\n",
    "  .setOutputCol(\"binarized_feature\")\n",
    "  .setThreshold(0.5)\n",
    "\n",
    "val binarizedDataFrame = binarizer.transform(dataFrame)\n",
    "val binarizedFeatures = binarizedDataFrame.select(\"binarized_feature\")"
   ]
  },
  {
   "cell_type": "code",
   "execution_count": 51,
   "metadata": {
    "collapsed": false
   },
   "outputs": [
    {
     "data": {
      "text/plain": [
       "\u001b[36mres50\u001b[0m: \u001b[32morg\u001b[0m.\u001b[32mapache\u001b[0m.\u001b[32mspark\u001b[0m.\u001b[32msql\u001b[0m.\u001b[32mRow\u001b[0m = [0,0.1,0.0]"
      ]
     },
     "metadata": {},
     "output_type": "display_data"
    }
   ],
   "source": [
    "binarizedDataFrame.first"
   ]
  },
  {
   "cell_type": "code",
   "execution_count": 52,
   "metadata": {
    "collapsed": false
   },
   "outputs": [
    {
     "data": {
      "text/plain": [
       "\u001b[36mres51\u001b[0m: \u001b[32morg\u001b[0m.\u001b[32mapache\u001b[0m.\u001b[32mspark\u001b[0m.\u001b[32msql\u001b[0m.\u001b[32mRow\u001b[0m = [0.0]"
      ]
     },
     "metadata": {},
     "output_type": "display_data"
    }
   ],
   "source": [
    "binarizedFeatures.first"
   ]
  },
  {
   "cell_type": "code",
   "execution_count": 53,
   "metadata": {
    "collapsed": false
   },
   "outputs": [
    {
     "name": "stdout",
     "output_type": "stream",
     "text": [
      "[0.0]\n",
      "[1.0]\n",
      "[0.0]\n"
     ]
    },
    {
     "data": {
      "text/plain": []
     },
     "metadata": {},
     "output_type": "display_data"
    }
   ],
   "source": [
    "binarizedFeatures.collect().foreach(println)"
   ]
  },
  {
   "cell_type": "markdown",
   "metadata": {},
   "source": [
    "### PCA\n",
    "\n",
    "PCA is a statistical procedure that uses an orthogonal transformation to convert a set of observations of possibly correlated variables into a set of values of linearly uncorrelated variables called principal components. A PCA class trains a model to project vectors to a low-dimensional space using PCA. The example below shows how to project 5-dimensional feature vectors into 3-dimensional principal components."
   ]
  },
  {
   "cell_type": "code",
   "execution_count": 54,
   "metadata": {
    "collapsed": false
   },
   "outputs": [
    {
     "data": {
      "text/plain": [
       "\u001b[32mimport \u001b[36morg.apache.spark.ml.feature.PCA\u001b[0m\n",
       "\u001b[32mimport \u001b[36morg.apache.spark.mllib.linalg.Vectors\u001b[0m"
      ]
     },
     "metadata": {},
     "output_type": "display_data"
    }
   ],
   "source": [
    "import org.apache.spark.ml.feature.PCA\n",
    "import org.apache.spark.mllib.linalg.Vectors"
   ]
  },
  {
   "cell_type": "code",
   "execution_count": 55,
   "metadata": {
    "collapsed": false
   },
   "outputs": [
    {
     "data": {
      "text/plain": [
       "\u001b[36mdata\u001b[0m: \u001b[32mArray\u001b[0m[\u001b[32morg\u001b[0m.\u001b[32mapache\u001b[0m.\u001b[32mspark\u001b[0m.\u001b[32mmllib\u001b[0m.\u001b[32mlinalg\u001b[0m.\u001b[32mVector\u001b[0m] = \u001b[33mArray\u001b[0m((5,[1,3],[1.0,7.0]), [2.0,0.0,3.0,4.0,5.0], [4.0,0.0,0.0,6.0,7.0])\n",
       "\u001b[36mdf\u001b[0m: \u001b[32mDataFrame\u001b[0m = [features: vector]\n",
       "\u001b[36mpca\u001b[0m: \u001b[32morg\u001b[0m.\u001b[32mapache\u001b[0m.\u001b[32mspark\u001b[0m.\u001b[32mml\u001b[0m.\u001b[32mfeature\u001b[0m.\u001b[32mPCAModel\u001b[0m = pca_dcd7cd979252\n",
       "\u001b[36mpcaDF\u001b[0m: \u001b[32mDataFrame\u001b[0m = [features: vector, pcaFeatures: vector]\n",
       "\u001b[36mresult\u001b[0m: \u001b[32mDataFrame\u001b[0m = [pcaFeatures: vector]"
      ]
     },
     "metadata": {},
     "output_type": "display_data"
    }
   ],
   "source": [
    "val data = Array(\n",
    "  Vectors.sparse(5, Seq((1, 1.0), (3, 7.0))),\n",
    "  Vectors.dense(2.0, 0.0, 3.0, 4.0, 5.0),\n",
    "  Vectors.dense(4.0, 0.0, 0.0, 6.0, 7.0)\n",
    ")\n",
    "val df = sqlContext.createDataFrame(data.map(Tuple1.apply)).toDF(\"features\")\n",
    "val pca = new PCA()\n",
    "  .setInputCol(\"features\")\n",
    "  .setOutputCol(\"pcaFeatures\")\n",
    "  .setK(3)\n",
    "  .fit(df)\n",
    "val pcaDF = pca.transform(df)\n",
    "val result = pcaDF.select(\"pcaFeatures\")"
   ]
  },
  {
   "cell_type": "code",
   "execution_count": 57,
   "metadata": {
    "collapsed": false
   },
   "outputs": [
    {
     "data": {
      "text/plain": [
       "\u001b[36mres56\u001b[0m: \u001b[32morg\u001b[0m.\u001b[32mapache\u001b[0m.\u001b[32mspark\u001b[0m.\u001b[32msql\u001b[0m.\u001b[32mRow\u001b[0m = [[1.6485728230883807,-4.013282700516296,-5.524543751369388]]"
      ]
     },
     "metadata": {},
     "output_type": "display_data"
    }
   ],
   "source": [
    "result.first"
   ]
  },
  {
   "cell_type": "code",
   "execution_count": 56,
   "metadata": {
    "collapsed": false
   },
   "outputs": [
    {
     "name": "stdout",
     "output_type": "stream",
     "text": [
      "+--------------------+\n",
      "|         pcaFeatures|\n",
      "+--------------------+\n",
      "|[1.64857282308838...|\n",
      "|[-4.6451043317815...|\n",
      "|[-6.4288805356764...|\n",
      "+--------------------+\n",
      "\n"
     ]
    },
    {
     "data": {
      "text/plain": []
     },
     "metadata": {},
     "output_type": "display_data"
    }
   ],
   "source": [
    "result.show()"
   ]
  },
  {
   "cell_type": "code",
   "execution_count": null,
   "metadata": {
    "collapsed": true
   },
   "outputs": [],
   "source": [
    "PolynomialExpansion\n",
    "Polynomial expansion is the process of expanding your features into a polynomial space, which is formulated by an n-degree combination of original dimensions. A PolynomialExpansion class provides this functionality. The example below shows how to expand your features into a 3-degree polynomial space.\n",
    "\n",
    "Scala\n",
    "Java\n",
    "Python\n",
    "Refer to the PolynomialExpansion Scala docs for more details on the API.\n",
    "\n",
    "import org.apache.spark.ml.feature.PolynomialExpansion\n",
    "import org.apache.spark.mllib.linalg.Vectors\n",
    "\n",
    "val data = Array(\n",
    "  Vectors.dense(-2.0, 2.3),\n",
    "  Vectors.dense(0.0, 0.0),\n",
    "  Vectors.dense(0.6, -1.1)\n",
    ")\n",
    "val df = sqlContext.createDataFrame(data.map(Tuple1.apply)).toDF(\"features\")\n",
    "val polynomialExpansion = new PolynomialExpansion()\n",
    "  .setInputCol(\"features\")\n",
    "  .setOutputCol(\"polyFeatures\")\n",
    "  .setDegree(3)\n",
    "val polyDF = polynomialExpansion.transform(df)\n",
    "polyDF.select(\"polyFeatures\").take(3).foreach(println)\n",
    "Find full example code at \"examples/src/main/scala/org/apache/spark/examples/ml/PolynomialExpansionExample.scala\" in the Spark repo.\n",
    "Discrete Cosine Transform (DCT)\n",
    "The Discrete Cosine Transform transforms a length NN real-valued sequence in the time domain into another length NN real-valued sequence in the frequency domain. A DCT class provides this functionality, implementing the DCT-II and scaling the result by 1/2√1/2 such that the representing matrix for the transform is unitary. No shift is applied to the transformed sequence (e.g. the 00th element of the transformed sequence is the 00th DCT coefficient and not the N/2N/2th).\n",
    "\n",
    "Scala\n",
    "Java\n",
    "Refer to the DCT Scala docs for more details on the API.\n",
    "\n",
    "import org.apache.spark.ml.feature.DCT\n",
    "import org.apache.spark.mllib.linalg.Vectors\n",
    "\n",
    "val data = Seq(\n",
    "  Vectors.dense(0.0, 1.0, -2.0, 3.0),\n",
    "  Vectors.dense(-1.0, 2.0, 4.0, -7.0),\n",
    "  Vectors.dense(14.0, -2.0, -5.0, 1.0))\n",
    "\n",
    "val df = sqlContext.createDataFrame(data.map(Tuple1.apply)).toDF(\"features\")\n",
    "\n",
    "val dct = new DCT()\n",
    "  .setInputCol(\"features\")\n",
    "  .setOutputCol(\"featuresDCT\")\n",
    "  .setInverse(false)\n",
    "\n",
    "val dctDf = dct.transform(df)\n",
    "dctDf.select(\"featuresDCT\").show(3)\n",
    "Find full example code at \"examples/src/main/scala/org/apache/spark/examples/ml/DCTExample.scala\" in the Spark repo.\n",
    "StringIndexer\n",
    "StringIndexer encodes a string column of labels to a column of label indices. The indices are in [0, numLabels), ordered by label frequencies. So the most frequent label gets index 0. If the input column is numeric, we cast it to string and index the string values. When downstream pipeline components such as Estimator or Transformer make use of this string-indexed label, you must set the input column of the component to this string-indexed column name. In many cases, you can set the input column with setInputCol.\n",
    "\n",
    "Examples\n",
    "\n",
    "Assume that we have the following DataFrame with columns id and category:\n",
    "\n",
    " id | category\n",
    "----|----------\n",
    " 0  | a\n",
    " 1  | b\n",
    " 2  | c\n",
    " 3  | a\n",
    " 4  | a\n",
    " 5  | c\n",
    "category is a string column with three labels: “a”, “b”, and “c”. Applying StringIndexer with category as the input column and categoryIndex as the output column, we should get the following:\n",
    "\n",
    " id | category | categoryIndex\n",
    "----|----------|---------------\n",
    " 0  | a        | 0.0\n",
    " 1  | b        | 2.0\n",
    " 2  | c        | 1.0\n",
    " 3  | a        | 0.0\n",
    " 4  | a        | 0.0\n",
    " 5  | c        | 1.0\n",
    "“a” gets index 0 because it is the most frequent, followed by “c” with index 1 and “b” with index 2.\n",
    "\n",
    "Additionaly, there are two strategies regarding how StringIndexer will handle unseen labels when you have fit a StringIndexer on one dataset and then use it to transform another:\n",
    "\n",
    "throw an exception (which is the default)\n",
    "skip the row containing the unseen label entirely\n",
    "Examples\n",
    "\n",
    "Let’s go back to our previous example but this time reuse our previously defined StringIndexer on the following dataset:\n",
    "\n",
    " id | category\n",
    "----|----------\n",
    " 0  | a\n",
    " 1  | b\n",
    " 2  | c\n",
    " 3  | d\n",
    "If you’ve not set how StringIndexer handles unseen labels or set it to “error”, an exception will be thrown. However, if you had called setHandleInvalid(\"skip\"), the following dataset will be generated:\n",
    "\n",
    " id | category | categoryIndex\n",
    "----|----------|---------------\n",
    " 0  | a        | 0.0\n",
    " 1  | b        | 2.0\n",
    " 2  | c        | 1.0\n",
    "Notice that the row containing “d” does not appear.\n",
    "\n",
    "Scala\n",
    "Java\n",
    "Python\n",
    "Refer to the StringIndexer Scala docs for more details on the API.\n",
    "\n",
    "import org.apache.spark.ml.feature.StringIndexer\n",
    "\n",
    "val df = sqlContext.createDataFrame(\n",
    "  Seq((0, \"a\"), (1, \"b\"), (2, \"c\"), (3, \"a\"), (4, \"a\"), (5, \"c\"))\n",
    ").toDF(\"id\", \"category\")\n",
    "\n",
    "val indexer = new StringIndexer()\n",
    "  .setInputCol(\"category\")\n",
    "  .setOutputCol(\"categoryIndex\")\n",
    "\n",
    "val indexed = indexer.fit(df).transform(df)\n",
    "indexed.show()\n",
    "Find full example code at \"examples/src/main/scala/org/apache/spark/examples/ml/StringIndexerExample.scala\" in the Spark repo.\n",
    "IndexToString\n",
    "Symmetrically to StringIndexer, IndexToString maps a column of label indices back to a column containing the original labels as strings. The common use case is to produce indices from labels with StringIndexer, train a model with those indices and retrieve the original labels from the column of predicted indices with IndexToString. However, you are free to supply your own labels.\n",
    "\n",
    "Examples\n",
    "\n",
    "Building on the StringIndexer example, let’s assume we have the following DataFrame with columns id and categoryIndex:\n",
    "\n",
    " id | categoryIndex\n",
    "----|---------------\n",
    " 0  | 0.0\n",
    " 1  | 2.0\n",
    " 2  | 1.0\n",
    " 3  | 0.0\n",
    " 4  | 0.0\n",
    " 5  | 1.0\n",
    "Applying IndexToString with categoryIndex as the input column, originalCategory as the output column, we are able to retrieve our original labels (they will be inferred from the columns’ metadata):\n",
    "\n",
    " id | categoryIndex | originalCategory\n",
    "----|---------------|-----------------\n",
    " 0  | 0.0           | a\n",
    " 1  | 2.0           | b\n",
    " 2  | 1.0           | c\n",
    " 3  | 0.0           | a\n",
    " 4  | 0.0           | a\n",
    " 5  | 1.0           | c\n",
    "Scala\n",
    "Java\n",
    "Python\n",
    "Refer to the IndexToString Scala docs for more details on the API.\n",
    "\n",
    "import org.apache.spark.ml.feature.{StringIndexer, IndexToString}\n",
    "\n",
    "val df = sqlContext.createDataFrame(Seq(\n",
    "  (0, \"a\"),\n",
    "  (1, \"b\"),\n",
    "  (2, \"c\"),\n",
    "  (3, \"a\"),\n",
    "  (4, \"a\"),\n",
    "  (5, \"c\")\n",
    ")).toDF(\"id\", \"category\")\n",
    "\n",
    "val indexer = new StringIndexer()\n",
    "  .setInputCol(\"category\")\n",
    "  .setOutputCol(\"categoryIndex\")\n",
    "  .fit(df)\n",
    "val indexed = indexer.transform(df)\n",
    "\n",
    "val converter = new IndexToString()\n",
    "  .setInputCol(\"categoryIndex\")\n",
    "  .setOutputCol(\"originalCategory\")\n",
    "\n",
    "val converted = converter.transform(indexed)\n",
    "converted.select(\"id\", \"originalCategory\").show()\n",
    "Find full example code at \"examples/src/main/scala/org/apache/spark/examples/ml/IndexToStringExample.scala\" in the Spark repo.\n",
    "OneHotEncoder\n",
    "One-hot encoding maps a column of label indices to a column of binary vectors, with at most a single one-value. This encoding allows algorithms which expect continuous features, such as Logistic Regression, to use categorical features\n",
    "\n",
    "Scala\n",
    "Java\n",
    "Python\n",
    "Refer to the OneHotEncoder Scala docs for more details on the API.\n",
    "\n",
    "import org.apache.spark.ml.feature.{OneHotEncoder, StringIndexer}\n",
    "\n",
    "val df = sqlContext.createDataFrame(Seq(\n",
    "  (0, \"a\"),\n",
    "  (1, \"b\"),\n",
    "  (2, \"c\"),\n",
    "  (3, \"a\"),\n",
    "  (4, \"a\"),\n",
    "  (5, \"c\")\n",
    ")).toDF(\"id\", \"category\")\n",
    "\n",
    "val indexer = new StringIndexer()\n",
    "  .setInputCol(\"category\")\n",
    "  .setOutputCol(\"categoryIndex\")\n",
    "  .fit(df)\n",
    "val indexed = indexer.transform(df)\n",
    "\n",
    "val encoder = new OneHotEncoder()\n",
    "  .setInputCol(\"categoryIndex\")\n",
    "  .setOutputCol(\"categoryVec\")\n",
    "val encoded = encoder.transform(indexed)\n",
    "encoded.select(\"id\", \"categoryVec\").show()\n",
    "Find full example code at \"examples/src/main/scala/org/apache/spark/examples/ml/OneHotEncoderExample.scala\" in the Spark repo.\n",
    "VectorIndexer\n",
    "VectorIndexer helps index categorical features in datasets of Vectors. It can both automatically decide which features are categorical and convert original values to category indices. Specifically, it does the following:\n",
    "\n",
    "Take an input column of type Vector and a parameter maxCategories.\n",
    "Decide which features should be categorical based on the number of distinct values, where features with at most maxCategories are declared categorical.\n",
    "Compute 0-based category indices for each categorical feature.\n",
    "Index categorical features and transform original feature values to indices.\n",
    "Indexing categorical features allows algorithms such as Decision Trees and Tree Ensembles to treat categorical features appropriately, improving performance.\n",
    "\n",
    "In the example below, we read in a dataset of labeled points and then use VectorIndexer to decide which features should be treated as categorical. We transform the categorical feature values to their indices. This transformed data could then be passed to algorithms such as DecisionTreeRegressor that handle categorical features.\n",
    "\n",
    "Scala\n",
    "Java\n",
    "Python\n",
    "Refer to the VectorIndexer Scala docs for more details on the API.\n",
    "\n",
    "import org.apache.spark.ml.feature.VectorIndexer\n",
    "\n",
    "val data = sqlContext.read.format(\"libsvm\").load(\"data/mllib/sample_libsvm_data.txt\")\n",
    "\n",
    "val indexer = new VectorIndexer()\n",
    "  .setInputCol(\"features\")\n",
    "  .setOutputCol(\"indexed\")\n",
    "  .setMaxCategories(10)\n",
    "\n",
    "val indexerModel = indexer.fit(data)\n",
    "\n",
    "val categoricalFeatures: Set[Int] = indexerModel.categoryMaps.keys.toSet\n",
    "println(s\"Chose ${categoricalFeatures.size} categorical features: \" +\n",
    "  categoricalFeatures.mkString(\", \"))\n",
    "\n",
    "// Create new column \"indexed\" with categorical values transformed to indices\n",
    "val indexedData = indexerModel.transform(data)\n",
    "indexedData.show()\n",
    "Find full example code at \"examples/src/main/scala/org/apache/spark/examples/ml/VectorIndexerExample.scala\" in the Spark repo.\n",
    "Normalizer\n",
    "Normalizer is a Transformer which transforms a dataset of Vector rows, normalizing each Vector to have unit norm. It takes parameter p, which specifies the p-norm used for normalization. (p=2p=2 by default.) This normalization can help standardize your input data and improve the behavior of learning algorithms.\n",
    "\n",
    "The following example demonstrates how to load a dataset in libsvm format and then normalize each row to have unit L2L2 norm and unit L∞L∞ norm.\n",
    "\n",
    "Scala\n",
    "Java\n",
    "Python\n",
    "Refer to the Normalizer Scala docs for more details on the API.\n",
    "\n",
    "import org.apache.spark.ml.feature.Normalizer\n",
    "\n",
    "val dataFrame = sqlContext.read.format(\"libsvm\").load(\"data/mllib/sample_libsvm_data.txt\")\n",
    "\n",
    "// Normalize each Vector using $L^1$ norm.\n",
    "val normalizer = new Normalizer()\n",
    "  .setInputCol(\"features\")\n",
    "  .setOutputCol(\"normFeatures\")\n",
    "  .setP(1.0)\n",
    "\n",
    "val l1NormData = normalizer.transform(dataFrame)\n",
    "l1NormData.show()\n",
    "\n",
    "// Normalize each Vector using $L^\\infty$ norm.\n",
    "val lInfNormData = normalizer.transform(dataFrame, normalizer.p -> Double.PositiveInfinity)\n",
    "lInfNormData.show()\n",
    "Find full example code at \"examples/src/main/scala/org/apache/spark/examples/ml/NormalizerExample.scala\" in the Spark repo.\n",
    "StandardScaler\n",
    "StandardScaler transforms a dataset of Vector rows, normalizing each feature to have unit standard deviation and/or zero mean. It takes parameters:\n",
    "\n",
    "withStd: True by default. Scales the data to unit standard deviation.\n",
    "withMean: False by default. Centers the data with mean before scaling. It will build a dense output, so this does not work on sparse input and will raise an exception.\n",
    "StandardScaler is an Estimator which can be fit on a dataset to produce a StandardScalerModel; this amounts to computing summary statistics. The model can then transform a Vector column in a dataset to have unit standard deviation and/or zero mean features.\n",
    "\n",
    "Note that if the standard deviation of a feature is zero, it will return default 0.0 value in the Vector for that feature.\n",
    "\n",
    "The following example demonstrates how to load a dataset in libsvm format and then normalize each feature to have unit standard deviation.\n",
    "\n",
    "Scala\n",
    "Java\n",
    "Python\n",
    "Refer to the StandardScaler Scala docs for more details on the API.\n",
    "\n",
    "import org.apache.spark.ml.feature.StandardScaler\n",
    "\n",
    "val dataFrame = sqlContext.read.format(\"libsvm\").load(\"data/mllib/sample_libsvm_data.txt\")\n",
    "\n",
    "val scaler = new StandardScaler()\n",
    "  .setInputCol(\"features\")\n",
    "  .setOutputCol(\"scaledFeatures\")\n",
    "  .setWithStd(true)\n",
    "  .setWithMean(false)\n",
    "\n",
    "// Compute summary statistics by fitting the StandardScaler.\n",
    "val scalerModel = scaler.fit(dataFrame)\n",
    "\n",
    "// Normalize each feature to have unit standard deviation.\n",
    "val scaledData = scalerModel.transform(dataFrame)\n",
    "scaledData.show()\n",
    "Find full example code at \"examples/src/main/scala/org/apache/spark/examples/ml/StandardScalerExample.scala\" in the Spark repo.\n",
    "MinMaxScaler\n",
    "MinMaxScaler transforms a dataset of Vector rows, rescaling each feature to a specific range (often [0, 1]). It takes parameters:\n",
    "\n",
    "min: 0.0 by default. Lower bound after transformation, shared by all features.\n",
    "max: 1.0 by default. Upper bound after transformation, shared by all features.\n",
    "MinMaxScaler computes summary statistics on a data set and produces a MinMaxScalerModel. The model can then transform each feature individually such that it is in the given range.\n",
    "\n",
    "The rescaled value for a feature E is calculated as,\n",
    "Rescaled(ei)=ei−EminEmax−Emin∗(max−min)+min(1)\n",
    "(1)Rescaled(ei)=ei−EminEmax−Emin∗(max−min)+min\n",
    "For the case E_{max} == E_{min}, Rescaled(e_i) = 0.5 * (max + min)\n",
    "\n",
    "Note that since zero values will probably be transformed to non-zero values, output of the transformer will be DenseVector even for sparse input.\n",
    "\n",
    "The following example demonstrates how to load a dataset in libsvm format and then rescale each feature to [0, 1].\n",
    "\n",
    "Scala\n",
    "Java\n",
    "Refer to the MinMaxScaler Scala docs and the MinMaxScalerModel Scala docs for more details on the API.\n",
    "\n",
    "import org.apache.spark.ml.feature.MinMaxScaler\n",
    "\n",
    "val dataFrame = sqlContext.read.format(\"libsvm\").load(\"data/mllib/sample_libsvm_data.txt\")\n",
    "\n",
    "val scaler = new MinMaxScaler()\n",
    "  .setInputCol(\"features\")\n",
    "  .setOutputCol(\"scaledFeatures\")\n",
    "\n",
    "// Compute summary statistics and generate MinMaxScalerModel\n",
    "val scalerModel = scaler.fit(dataFrame)\n",
    "\n",
    "// rescale each feature to range [min, max].\n",
    "val scaledData = scalerModel.transform(dataFrame)\n",
    "scaledData.show()\n",
    "Find full example code at \"examples/src/main/scala/org/apache/spark/examples/ml/MinMaxScalerExample.scala\" in the Spark repo.\n",
    "Bucketizer\n",
    "Bucketizer transforms a column of continuous features to a column of feature buckets, where the buckets are specified by users. It takes a parameter:\n",
    "\n",
    "splits: Parameter for mapping continuous features into buckets. With n+1 splits, there are n buckets. A bucket defined by splits x,y holds values in the range [x,y) except the last bucket, which also includes y. Splits should be strictly increasing. Values at -inf, inf must be explicitly provided to cover all Double values; Otherwise, values outside the splits specified will be treated as errors. Two examples of splits are Array(Double.NegativeInfinity, 0.0, 1.0, Double.PositiveInfinity) and Array(0.0, 1.0, 2.0).\n",
    "Note that if you have no idea of the upper bound and lower bound of the targeted column, you would better add the Double.NegativeInfinity and Double.PositiveInfinity as the bounds of your splits to prevent a potenial out of Bucketizer bounds exception.\n",
    "\n",
    "Note also that the splits that you provided have to be in strictly increasing order, i.e. s0 < s1 < s2 < ... < sn.\n",
    "\n",
    "More details can be found in the API docs for Bucketizer.\n",
    "\n",
    "The following example demonstrates how to bucketize a column of Doubles into another index-wised column.\n",
    "\n",
    "Scala\n",
    "Java\n",
    "Python\n",
    "Refer to the Bucketizer Scala docs for more details on the API.\n",
    "\n",
    "import org.apache.spark.ml.feature.Bucketizer\n",
    "\n",
    "val splits = Array(Double.NegativeInfinity, -0.5, 0.0, 0.5, Double.PositiveInfinity)\n",
    "\n",
    "val data = Array(-0.5, -0.3, 0.0, 0.2)\n",
    "val dataFrame = sqlContext.createDataFrame(data.map(Tuple1.apply)).toDF(\"features\")\n",
    "\n",
    "val bucketizer = new Bucketizer()\n",
    "  .setInputCol(\"features\")\n",
    "  .setOutputCol(\"bucketedFeatures\")\n",
    "  .setSplits(splits)\n",
    "\n",
    "// Transform original data into its bucket index.\n",
    "val bucketedData = bucketizer.transform(dataFrame)\n",
    "bucketedData.show()\n",
    "Find full example code at \"examples/src/main/scala/org/apache/spark/examples/ml/BucketizerExample.scala\" in the Spark repo.\n",
    "ElementwiseProduct\n",
    "ElementwiseProduct multiplies each input vector by a provided “weight” vector, using element-wise multiplication. In other words, it scales each column of the dataset by a scalar multiplier. This represents the Hadamard product between the input vector, v and transforming vector, w, to yield a result vector.\n",
    "\n",
    "⎛⎝⎜⎜v1⋮vN⎞⎠⎟⎟∘⎛⎝⎜⎜w1⋮wN⎞⎠⎟⎟=⎛⎝⎜⎜v1w1⋮vNwN⎞⎠⎟⎟\n",
    "(v1⋮vN)∘(w1⋮wN)=(v1w1⋮vNwN)\n",
    "\n",
    "This example below demonstrates how to transform vectors using a transforming vector value.\n",
    "\n",
    "Scala\n",
    "Java\n",
    "Python\n",
    "Refer to the ElementwiseProduct Scala docs for more details on the API.\n",
    "\n",
    "import org.apache.spark.ml.feature.ElementwiseProduct\n",
    "import org.apache.spark.mllib.linalg.Vectors\n",
    "\n",
    "// Create some vector data; also works for sparse vectors\n",
    "val dataFrame = sqlContext.createDataFrame(Seq(\n",
    "  (\"a\", Vectors.dense(1.0, 2.0, 3.0)),\n",
    "  (\"b\", Vectors.dense(4.0, 5.0, 6.0)))).toDF(\"id\", \"vector\")\n",
    "\n",
    "val transformingVector = Vectors.dense(0.0, 1.0, 2.0)\n",
    "val transformer = new ElementwiseProduct()\n",
    "  .setScalingVec(transformingVector)\n",
    "  .setInputCol(\"vector\")\n",
    "  .setOutputCol(\"transformedVector\")\n",
    "\n",
    "// Batch transform the vectors to create new column:\n",
    "transformer.transform(dataFrame).show()\n",
    "Find full example code at \"examples/src/main/scala/org/apache/spark/examples/ml/ElementwiseProductExample.scala\" in the Spark repo.\n",
    "SQLTransformer\n",
    "SQLTransformer implements the transformations which are defined by SQL statement. Currently we only support SQL syntax like \"SELECT ... FROM __THIS__ ...\" where \"__THIS__\" represents the underlying table of the input dataset. The select clause specifies the fields, constants, and expressions to display in the output, it can be any select clause that Spark SQL supports. Users can also use Spark SQL built-in function and UDFs to operate on these selected columns. For example, SQLTransformer supports statements like:\n",
    "\n",
    "SELECT a, a + b AS a_b FROM __THIS__\n",
    "SELECT a, SQRT(b) AS b_sqrt FROM __THIS__ where a > 5\n",
    "SELECT a, b, SUM(c) AS c_sum FROM __THIS__ GROUP BY a, b\n",
    "Examples\n",
    "\n",
    "Assume that we have the following DataFrame with columns id, v1 and v2:\n",
    "\n",
    " id |  v1 |  v2\n",
    "----|-----|-----\n",
    " 0  | 1.0 | 3.0  \n",
    " 2  | 2.0 | 5.0\n",
    "This is the output of the SQLTransformer with statement \"SELECT *, (v1 + v2) AS v3, (v1 * v2) AS v4 FROM __THIS__\":\n",
    "\n",
    " id |  v1 |  v2 |  v3 |  v4\n",
    "----|-----|-----|-----|-----\n",
    " 0  | 1.0 | 3.0 | 4.0 | 3.0\n",
    " 2  | 2.0 | 5.0 | 7.0 |10.0\n",
    "Scala\n",
    "Java\n",
    "Python\n",
    "Refer to the SQLTransformer Scala docs for more details on the API.\n",
    "\n",
    "import org.apache.spark.ml.feature.SQLTransformer\n",
    "\n",
    "val df = sqlContext.createDataFrame(\n",
    "  Seq((0, 1.0, 3.0), (2, 2.0, 5.0))).toDF(\"id\", \"v1\", \"v2\")\n",
    "\n",
    "val sqlTrans = new SQLTransformer().setStatement(\n",
    "  \"SELECT *, (v1 + v2) AS v3, (v1 * v2) AS v4 FROM __THIS__\")\n",
    "\n",
    "sqlTrans.transform(df).show()\n",
    "Find full example code at \"examples/src/main/scala/org/apache/spark/examples/ml/SQLTransformerExample.scala\" in the Spark repo.\n",
    "VectorAssembler\n",
    "VectorAssembler is a transformer that combines a given list of columns into a single vector column. It is useful for combining raw features and features generated by different feature transformers into a single feature vector, in order to train ML models like logistic regression and decision trees. VectorAssembler accepts the following input column types: all numeric types, boolean type, and vector type. In each row, the values of the input columns will be concatenated into a vector in the specified order.\n",
    "\n",
    "Examples\n",
    "\n",
    "Assume that we have a DataFrame with the columns id, hour, mobile, userFeatures, and clicked:\n",
    "\n",
    " id | hour | mobile | userFeatures     | clicked\n",
    "----|------|--------|------------------|---------\n",
    " 0  | 18   | 1.0    | [0.0, 10.0, 0.5] | 1.0\n",
    "userFeatures is a vector column that contains three user features. We want to combine hour, mobile, and userFeatures into a single feature vector called features and use it to predict clicked or not. If we set VectorAssembler’s input columns to hour, mobile, and userFeatures and output column to features, after transformation we should get the following DataFrame:\n",
    "\n",
    " id | hour | mobile | userFeatures     | clicked | features\n",
    "----|------|--------|------------------|---------|-----------------------------\n",
    " 0  | 18   | 1.0    | [0.0, 10.0, 0.5] | 1.0     | [18.0, 1.0, 0.0, 10.0, 0.5]\n",
    "Scala\n",
    "Java\n",
    "Python\n",
    "Refer to the VectorAssembler Scala docs for more details on the API.\n",
    "\n",
    "import org.apache.spark.ml.feature.VectorAssembler\n",
    "import org.apache.spark.mllib.linalg.Vectors\n",
    "\n",
    "val dataset = sqlContext.createDataFrame(\n",
    "  Seq((0, 18, 1.0, Vectors.dense(0.0, 10.0, 0.5), 1.0))\n",
    ").toDF(\"id\", \"hour\", \"mobile\", \"userFeatures\", \"clicked\")\n",
    "\n",
    "val assembler = new VectorAssembler()\n",
    "  .setInputCols(Array(\"hour\", \"mobile\", \"userFeatures\"))\n",
    "  .setOutputCol(\"features\")\n",
    "\n",
    "val output = assembler.transform(dataset)\n",
    "println(output.select(\"features\", \"clicked\").first())\n",
    "Find full example code at \"examples/src/main/scala/org/apache/spark/examples/ml/VectorAssemblerExample.scala\" in the Spark repo.\n",
    "QuantileDiscretizer\n",
    "QuantileDiscretizer takes a column with continuous features and outputs a column with binned categorical features. The bin ranges are chosen by taking a sample of the data and dividing it into roughly equal parts. The lower and upper bin bounds will be -Infinity and +Infinity, covering all real values. This attempts to find numBuckets partitions based on a sample of the given input data, but it may find fewer depending on the data sample values.\n",
    "\n",
    "Note that the result may be different every time you run it, since the sample strategy behind it is non-deterministic.\n",
    "\n",
    "Examples\n",
    "\n",
    "Assume that we have a DataFrame with the columns id, hour:\n",
    "\n",
    " id | hour\n",
    "----|------\n",
    " 0  | 18.0\n",
    "----|------\n",
    " 1  | 19.0\n",
    "----|------\n",
    " 2  | 8.0\n",
    "----|------\n",
    " 3  | 5.0\n",
    "----|------\n",
    " 4  | 2.2\n",
    "hour is a continuous feature with Double type. We want to turn the continuous feature into categorical one. Given numBuckets = 3, we should get the following DataFrame:\n",
    "\n",
    " id | hour | result\n",
    "----|------|------\n",
    " 0  | 18.0 | 2.0\n",
    "----|------|------\n",
    " 1  | 19.0 | 2.0\n",
    "----|------|------\n",
    " 2  | 8.0  | 1.0\n",
    "----|------|------\n",
    " 3  | 5.0  | 1.0\n",
    "----|------|------\n",
    " 4  | 2.2  | 0.0\n",
    "Scala\n",
    "Java\n",
    "Refer to the QuantileDiscretizer Scala docs for more details on the API.\n",
    "\n",
    "import org.apache.spark.ml.feature.QuantileDiscretizer\n",
    "\n",
    "val data = Array((0, 18.0), (1, 19.0), (2, 8.0), (3, 5.0), (4, 2.2))\n",
    "val df = sc.parallelize(data).toDF(\"id\", \"hour\")\n",
    "\n",
    "val discretizer = new QuantileDiscretizer()\n",
    "  .setInputCol(\"hour\")\n",
    "  .setOutputCol(\"result\")\n",
    "  .setNumBuckets(3)\n",
    "\n",
    "val result = discretizer.fit(df).transform(df)\n",
    "result.show()\n",
    "Find full example code at \"examples/src/main/scala/org/apache/spark/examples/ml/QuantileDiscretizerExample.scala\" in the Spark repo.\n",
    "Feature Selectors\n",
    "VectorSlicer\n",
    "VectorSlicer is a transformer that takes a feature vector and outputs a new feature vector with a sub-array of the original features. It is useful for extracting features from a vector column.\n",
    "\n",
    "VectorSlicer accepts a vector column with a specified indices, then outputs a new vector column whose values are selected via those indices. There are two types of indices,\n",
    "\n",
    "Integer indices that represents the indices into the vector, setIndices();\n",
    "\n",
    "String indices that represents the names of features into the vector, setNames(). This requires the vector column to have an AttributeGroup since the implementation matches on the name field of an Attribute.\n",
    "\n",
    "Specification by integer and string are both acceptable. Moreover, you can use integer index and string name simultaneously. At least one feature must be selected. Duplicate features are not allowed, so there can be no overlap between selected indices and names. Note that if names of features are selected, an exception will be threw out when encountering with empty input attributes.\n",
    "\n",
    "The output vector will order features with the selected indices first (in the order given), followed by the selected names (in the order given).\n",
    "\n",
    "Examples\n",
    "\n",
    "Suppose that we have a DataFrame with the column userFeatures:\n",
    "\n",
    " userFeatures\n",
    "------------------\n",
    " [0.0, 10.0, 0.5]\n",
    "userFeatures is a vector column that contains three user features. Assuming that the first column of userFeatures are all zeros, so we want to remove it and only the last two columns are selected. The VectorSlicer selects the last two elements with setIndices(1, 2) then produces a new vector column named features:\n",
    "\n",
    " userFeatures     | features\n",
    "------------------|-----------------------------\n",
    " [0.0, 10.0, 0.5] | [10.0, 0.5]\n",
    "Suppose also that we have a potential input attributes for the userFeatures, i.e. [\"f1\", \"f2\", \"f3\"], then we can use setNames(\"f2\", \"f3\") to select them.\n",
    "\n",
    " userFeatures     | features\n",
    "------------------|-----------------------------\n",
    " [0.0, 10.0, 0.5] | [10.0, 0.5]\n",
    " [\"f1\", \"f2\", \"f3\"] | [\"f2\", \"f3\"]\n",
    "Scala\n",
    "Java\n",
    "Refer to the VectorSlicer Scala docs for more details on the API.\n",
    "\n",
    "import org.apache.spark.ml.attribute.{Attribute, AttributeGroup, NumericAttribute}\n",
    "import org.apache.spark.ml.feature.VectorSlicer\n",
    "import org.apache.spark.mllib.linalg.Vectors\n",
    "import org.apache.spark.sql.Row\n",
    "import org.apache.spark.sql.types.StructType\n",
    "\n",
    "val data = Array(Row(Vectors.dense(-2.0, 2.3, 0.0)))\n",
    "\n",
    "val defaultAttr = NumericAttribute.defaultAttr\n",
    "val attrs = Array(\"f1\", \"f2\", \"f3\").map(defaultAttr.withName)\n",
    "val attrGroup = new AttributeGroup(\"userFeatures\", attrs.asInstanceOf[Array[Attribute]])\n",
    "\n",
    "val dataRDD = sc.parallelize(data)\n",
    "val dataset = sqlContext.createDataFrame(dataRDD, StructType(Array(attrGroup.toStructField())))\n",
    "\n",
    "val slicer = new VectorSlicer().setInputCol(\"userFeatures\").setOutputCol(\"features\")\n",
    "\n",
    "slicer.setIndices(Array(1)).setNames(Array(\"f3\"))\n",
    "// or slicer.setIndices(Array(1, 2)), or slicer.setNames(Array(\"f2\", \"f3\"))\n",
    "\n",
    "val output = slicer.transform(dataset)\n",
    "println(output.select(\"userFeatures\", \"features\").first())\n",
    "Find full example code at \"examples/src/main/scala/org/apache/spark/examples/ml/VectorSlicerExample.scala\" in the Spark repo.\n",
    "RFormula\n",
    "RFormula selects columns specified by an R model formula. It produces a vector column of features and a double column of labels. Like when formulas are used in R for linear regression, string input columns will be one-hot encoded, and numeric columns will be cast to doubles. If not already present in the DataFrame, the output label column will be created from the specified response variable in the formula.\n",
    "\n",
    "Examples\n",
    "\n",
    "Assume that we have a DataFrame with the columns id, country, hour, and clicked:\n",
    "\n",
    "id | country | hour | clicked\n",
    "---|---------|------|---------\n",
    " 7 | \"US\"    | 18   | 1.0\n",
    " 8 | \"CA\"    | 12   | 0.0\n",
    " 9 | \"NZ\"    | 15   | 0.0\n",
    "If we use RFormula with a formula string of clicked ~ country + hour, which indicates that we want to predict clicked based on country and hour, after transformation we should get the following DataFrame:\n",
    "\n",
    "id | country | hour | clicked | features         | label\n",
    "---|---------|------|---------|------------------|-------\n",
    " 7 | \"US\"    | 18   | 1.0     | [0.0, 0.0, 18.0] | 1.0\n",
    " 8 | \"CA\"    | 12   | 0.0     | [0.0, 1.0, 12.0] | 0.0\n",
    " 9 | \"NZ\"    | 15   | 0.0     | [1.0, 0.0, 15.0] | 0.0\n",
    "Scala\n",
    "Java\n",
    "Python\n",
    "Refer to the RFormula Scala docs for more details on the API.\n",
    "\n",
    "import org.apache.spark.ml.feature.RFormula\n",
    "\n",
    "val dataset = sqlContext.createDataFrame(Seq(\n",
    "  (7, \"US\", 18, 1.0),\n",
    "  (8, \"CA\", 12, 0.0),\n",
    "  (9, \"NZ\", 15, 0.0)\n",
    ")).toDF(\"id\", \"country\", \"hour\", \"clicked\")\n",
    "val formula = new RFormula()\n",
    "  .setFormula(\"clicked ~ country + hour\")\n",
    "  .setFeaturesCol(\"features\")\n",
    "  .setLabelCol(\"label\")\n",
    "val output = formula.fit(dataset).transform(dataset)\n",
    "output.select(\"features\", \"label\").show()\n",
    "Find full example code at \"examples/src/main/scala/org/apache/spark/examples/ml/RFormulaExample.scala\" in the Spark repo.\n",
    "ChiSqSelector\n",
    "ChiSqSelector stands for Chi-Squared feature selection. It operates on labeled data with categorical features. ChiSqSelector orders features based on a Chi-Squared test of independence from the class, and then filters (selects) the top features which the class label depends on the most. This is akin to yielding the features with the most predictive power.\n",
    "\n",
    "Examples\n",
    "\n",
    "Assume that we have a DataFrame with the columns id, features, and clicked, which is used as our target to be predicted:\n",
    "\n",
    "id | features              | clicked\n",
    "---|-----------------------|---------\n",
    " 7 | [0.0, 0.0, 18.0, 1.0] | 1.0\n",
    " 8 | [0.0, 1.0, 12.0, 0.0] | 0.0\n",
    " 9 | [1.0, 0.0, 15.0, 0.1] | 0.0\n",
    "If we use ChiSqSelector with a numTopFeatures = 1, then according to our label clicked the last column in our features chosen as the most useful feature:\n",
    "\n",
    "id | features              | clicked | selectedFeatures\n",
    "---|-----------------------|---------|------------------\n",
    " 7 | [0.0, 0.0, 18.0, 1.0] | 1.0     | [1.0]\n",
    " 8 | [0.0, 1.0, 12.0, 0.0] | 0.0     | [0.0]\n",
    " 9 | [1.0, 0.0, 15.0, 0.1] | 0.0     | [0.1]\n",
    "Scala\n",
    "Java\n",
    "Refer to the ChiSqSelector Scala docs for more details on the API.\n",
    "\n",
    "import org.apache.spark.ml.feature.ChiSqSelector\n",
    "import org.apache.spark.mllib.linalg.Vectors\n",
    "\n",
    "val data = Seq(\n",
    "  (7, Vectors.dense(0.0, 0.0, 18.0, 1.0), 1.0),\n",
    "  (8, Vectors.dense(0.0, 1.0, 12.0, 0.0), 0.0),\n",
    "  (9, Vectors.dense(1.0, 0.0, 15.0, 0.1), 0.0)\n",
    ")\n",
    "\n",
    "val df = sc.parallelize(data).toDF(\"id\", \"features\", \"clicked\")\n",
    "\n",
    "val selector = new ChiSqSelector()\n",
    "  .setNumTopFeatures(1)\n",
    "  .setFeaturesCol(\"features\")\n",
    "  .setLabelCol(\"clicked\")\n",
    "  .setOutputCol(\"selectedFeatures\")\n",
    "\n",
    "val result = selector.fit(df).transform(df)\n",
    "result.show()\n",
    "Find full example code at \"examples/src/main/scala/org/apache/spark/examples/ml/ChiSqSelectorExample.scala\" in the Spark repo."
   ]
  }
 ],
 "metadata": {
  "kernelspec": {
   "display_name": "Scala 2.11",
   "language": "scala211",
   "name": "scala211"
  },
  "language_info": {
   "codemirror_mode": "text/x-scala",
   "file_extension": ".scala",
   "mimetype": "text/x-scala",
   "name": "scala211",
   "pygments_lexer": "scala",
   "version": "2.11.7"
  }
 },
 "nbformat": 4,
 "nbformat_minor": 0
}
